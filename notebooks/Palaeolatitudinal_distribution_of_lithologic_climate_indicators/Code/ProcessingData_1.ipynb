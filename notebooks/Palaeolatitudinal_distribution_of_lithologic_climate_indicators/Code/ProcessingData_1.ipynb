{
 "cells": [
  {
   "cell_type": "markdown",
   "metadata": {},
   "source": [
    "# Materials associated with the paper: \n",
    "\n",
    "Cao, W., Williams, S., Flament, N., Zahirovic, S., Scotese, C., and Müller, R. D., 2018. Paleolatitudinal distribution of lithologic indicators of climate in a paleogeographic framework. Geological Magazine, 1-24. doi:10.1017/S0016756818000110.\n",
    "\n",
    "### This Jupyter notebook is used to convert lithologic data from tabular foramt into shapefile format\n",
    "\n",
    "The code in this notebook is written in Python 2.7. It utilises the standard scientific Python modules including numpy, pandas, glob, os and the open source modules pygplates which provides a Python API to the GPlates software (https://www.gplates.org/).\n"
   ]
  },
  {
   "cell_type": "markdown",
   "metadata": {},
   "source": [
    "## Import Python modules"
   ]
  },
  {
   "cell_type": "code",
   "execution_count": 2,
   "metadata": {
    "collapsed": true
   },
   "outputs": [],
   "source": [
    "import pygplates\n",
    "import pandas as pd\n",
    "import numpy as np\n",
    "import glob, os"
   ]
  },
  {
   "cell_type": "markdown",
   "metadata": {},
   "source": [
    "## Read the input data and models"
   ]
  },
  {
   "cell_type": "code",
   "execution_count": 13,
   "metadata": {
    "collapsed": false
   },
   "outputs": [
    {
     "name": "stdout",
     "output_type": "stream",
     "text": [
      "Map06\n",
      "Map21\n",
      "Map11\n",
      "Map16\n",
      "Map04\n",
      "Map22\n",
      "Map24\n",
      "Map20\n",
      "Map17\n",
      "Map14\n",
      "Map25\n",
      "Map15\n",
      "Map03\n",
      "Map08\n",
      "Map13\n",
      "Map07\n",
      "Map05\n",
      "Map12\n",
      "Map29\n",
      "Map19\n",
      "Map23\n",
      "Map10\n",
      "Map09\n",
      "Map26\n",
      "406.0\n",
      "390.5\n",
      "385.5\n",
      "371.0\n",
      "345.0\n",
      "327.0\n",
      "315.0\n",
      "303.0\n",
      "294.5\n",
      "271.0\n",
      "249.5\n",
      "242.0\n",
      "219.0\n",
      "182.5\n",
      "154.5\n",
      "129.0\n",
      "101.4\n",
      "77.9\n",
      "61.0\n",
      "51.9\n",
      "40.85\n",
      "28.45\n",
      "14.15\n",
      "0.0\n"
     ]
    }
   ],
   "source": [
    "# read data\n",
    "file_list = glob.glob('../Data/Original_Data/*.csv')\n",
    "\n",
    "for filename in file_list[5:]:\n",
    "    print(os.path.basename(filename)[:5])\n",
    "\n",
    "age_range_list = [(541.0,509),  # Early Cambrian\n",
    "           (509,485.4),   # Middle and Late Cambrian (509,485.4)\n",
    "           (485.4,470.0),   # Early Ordovician (485.4,470.0)\n",
    "           (470.0,443.8),   # Middle and Late Ordovician (470.0,443.8)\n",
    "           (443.8,419.2),   # Silurian (443.8,419.2)\n",
    "           (419,393),   # Early Devonian\n",
    "           (393,388),   # Middle Devonian (Eifelian)\n",
    "           (388,383),   # Middle Devonian (Givetian)\n",
    "           (383,359),   # Late Devonian\n",
    "           (359,331),   # Early Carboniferous (Tournaisian-Visean)\n",
    "           (331,323),   # Early Carboniferous (Serpukhovian)\n",
    "           (323,307),   # Late Carboniferous (Bashkirian-Moscovian)\n",
    "           (307,299),   # Late Carboniferous (Kasimovian-Gzhelian)\n",
    "           (299,290),   # Early Permian (Asselian-Sakmarian)\n",
    "           (290,252),   # Middle-Late Permian (Artinskian-Lopingian)\n",
    "           (252,247),   # Early Triassic\n",
    "           (247,237),   # Middle Triassic\n",
    "           (237,201),   # Late Triassic\n",
    "           (201,164),   # Early and Middle Jurassic\n",
    "           (164,145),   # Late Jurassic\n",
    "           (145,113),   # Early Cretaceous (Berriasian-Aptian)\n",
    "           (113,89.8),   # Late Cretaceous (Albian-Turonian)\n",
    "           (89.8,66.0),   # Late Cretaceous (Coniacian-Maastrichtian)\n",
    "           (66.0,56.0),   # Paleocene\n",
    "           (56.0,47.8),  # Early Eocene (Ypresian?)\n",
    "           (47.8,33.9),  # Middle and Late Eocene\n",
    "           (33.9,23.0),  # Oligocene\n",
    "           (23.0,5.3),    # Miocene\n",
    "           (0.01,-0.01)]    \n",
    "\n",
    "i = 0\n",
    "for i in np.arange(5,29,1):\n",
    "    recon_time = np.mean(age_range_list[i])\n",
    "    print(recon_time)"
   ]
  },
  {
   "cell_type": "code",
   "execution_count": 14,
   "metadata": {
    "collapsed": false
   },
   "outputs": [],
   "source": [
    "# Metthews et al., 2016 static polygons\n",
    "continental_polygons = pygplates.FeatureCollection('../Data/Tectonic_model/StaticPolys/PresentDay_StaticPlatePolygons_Matthews++.shp')\n",
    "# Matthews et al., 2016 continental polygons\n",
    "#continental_polygons = pygplates.FeatureCollection('/Users/wenchaocao/Research/6_CookieCutting_Corrections/Matthews++_410-0Ma_latest/ContPolys/PresentDay_ContinentalPolygons_Matthews++.shp')\n",
    "\n",
    "# empty rotation file\n",
    "input_rotation_filename = ['../Data/Tectonic_model/New_Rotation.rot']\n",
    "rotation_model = pygplates.RotationModel(input_rotation_filename)"
   ]
  },
  {
   "cell_type": "code",
   "execution_count": 15,
   "metadata": {
    "collapsed": false
   },
   "outputs": [],
   "source": [
    "# define a function\n",
    "\n",
    "def paleolith2shapefile(filename,age_range):\n",
    "    \n",
    "    df = pd.read_csv(filename,sep=',')\n",
    "    point_features = []\n",
    "    # put the points into a feature collection, using Lat,Long coordinates from dataframe\n",
    "    for index,row in df.iterrows():\n",
    "        point = pygplates.PointOnSphere(float(row.LAT),float(row.LONG))\n",
    "        #print row.LONG\n",
    "        point_feature = pygplates.Feature()\n",
    "        point_feature.set_geometry(point)\n",
    "        point_feature.set_shapefile_attribute('MapNum',os.path.basename(filename)[3:5])\n",
    "        point_feature.set_shapefile_attribute('LithCode',row.LithologyCode)\n",
    "        point_feature.set_shapefile_attribute('LithID',row.LithNumber)\n",
    "        point_feature.set_shapefile_attribute('OldIDNumber',row.OldIDNumber)\n",
    "        point_feature.set_shapefile_attribute('ModernLAT',row.LAT)\n",
    "        point_feature.set_shapefile_attribute('NS',row.NS)\n",
    "        point_feature.set_shapefile_attribute('ModernLONG',row.LONG)\n",
    "        point_feature.set_shapefile_attribute('EW',row.EW)\n",
    "        point_feature.set_shapefile_attribute('Continent',row.Continent)\n",
    "        point_feature.set_shapefile_attribute('Country',row.Country)\n",
    "        point_feature.set_shapefile_attribute('GeogComm',row.GeogComments)\n",
    "        point_feature.set_shapefile_attribute('LMU',row.LMU)\n",
    "        point_feature.set_shapefile_attribute('Period',row.Period)\n",
    "        point_feature.set_shapefile_attribute('Stage',row.Stage)\n",
    "        point_feature.set_shapefile_attribute('AgeComm',row.AgeComments)\n",
    "        point_feature.set_shapefile_attribute('Lithology',row.Lithology)\n",
    "        point_feature.set_shapefile_attribute('Formation',row.Formation)\n",
    "        point_feature.set_shapefile_attribute('LithComm',row.LithComments)\n",
    "        point_feature.set_shapefile_attribute('PrimRef',row.PrimaryReference)\n",
    "        point_feature.set_shapefile_attribute('SeeAlso',row.SeeAlso)\n",
    "        point_feature.set_valid_time(age_range[0],age_range[1]) #age_range[0],age_range[1] # age_range[1]+0.01\n",
    "        point_features.append(point_feature)\n",
    "\n",
    "    # The partition points function can then be used as before\n",
    "    partitioned_point_features = []\n",
    "    partitioned_point_features = pygplates.partition_into_plates(continental_polygons,\n",
    "                                                           rotation_model,\n",
    "                                                           point_features)\n",
    "    \n",
    "    # If partitioned feature has plate id = 0, we throw it away \n",
    "    partitioned_point_features_not_zero = []\n",
    "    for point_feature in partitioned_point_features:\n",
    "        if point_feature.get_reconstruction_plate_id() != 0:\n",
    "            partitioned_point_features_not_zero.append(point_feature)\n",
    "    \n",
    "    return partitioned_point_features_not_zero"
   ]
  },
  {
   "cell_type": "markdown",
   "metadata": {},
   "source": [
    "## Save all the data into one shapefile"
   ]
  },
  {
   "cell_type": "code",
   "execution_count": 9,
   "metadata": {
    "collapsed": false
   },
   "outputs": [
    {
     "name": "stdout",
     "output_type": "stream",
     "text": [
      "../Data/Original_Data/Map06 LDevon v5.csv (419, 393)\n",
      "76\n",
      "../Data/Original_Data/Map21 preAlbian  v6.csv (393, 388)\n",
      "505\n",
      "../Data/Original_Data/Map11 Serpuk v4.csv (388, 383)\n",
      "209\n",
      "../Data/Original_Data/Map16 LTrias v4.csv (383, 359)\n",
      "95\n",
      "../Data/Original_Data/Map04 MUOrdo v5.csv (359, 331)\n",
      "180\n",
      "../Data/Original_Data/Map22 AlbianTuron v5.csv (331, 323)\n",
      "440\n",
      "../Data/Original_Data/Map24 Paleocene  v4.csv (323, 307)\n",
      "262\n",
      "../Data/Original_Data/Map20 UJuras v4.csv (307, 299)\n",
      "270\n",
      "../Data/Original_Data/Map17 MTrias v4.csv (299, 290)\n",
      "121\n",
      "../Data/Original_Data/Map14  AssSak v4.csv (290, 252)\n",
      "513\n",
      "../Data/Original_Data/Map25 LEocene v4.csv (252, 247)\n",
      "400\n",
      "../Data/Original_Data/Map15 ArtinLoping v4.csv (247, 237)\n",
      "599\n",
      "../Data/Original_Data/Map03 LOrdo v5.csv (237, 201)\n",
      "109\n",
      "../Data/Original_Data/Map08 Givet v5.csv (201, 164)\n",
      "73\n",
      "../Data/Original_Data/Map13 Steph v4.csv (164, 145)\n",
      "396\n",
      "../Data/Original_Data/Map07 Eifel v5.csv (145, 113)\n",
      "63\n",
      "../Data/Original_Data/Map05 Silurian v5.csv (113, 89.8)\n",
      "74\n",
      "../Data/Original_Data/Map12 BashMosc v4.csv (89.8, 66.0)\n",
      "570\n",
      "../Data/Original_Data/Map29 Present.csv (66.0, 56.0)\n",
      "7639\n",
      "../Data/Original_Data/Map19 LMJuras v4.csv (56.0, 47.8)\n",
      "705\n",
      "../Data/Original_Data/Map23 ConiacCampMaas v5.csv (47.8, 33.9)\n",
      "388\n",
      "../Data/Original_Data/Map10 TourVise v4.csv (33.9, 23.0)\n",
      "458\n",
      "../Data/Original_Data/Map09 UDevon v5.csv (23.0, 5.3)\n",
      "138\n",
      "../Data/Original_Data/Map26 MUEocene v4.csv (0.01, -0.01)\n",
      "469\n"
     ]
    }
   ],
   "source": [
    "features_collection = []\n",
    "\n",
    "for filename,age_range in zip(file_list[5:],age_range_list[5:]): #zip(file_list[5:],age_range_list[5:])\n",
    "    print(filename, age_range)\n",
    "    \n",
    "    partitioned_point_features_not_zero= []\n",
    "    partitioned_point_features_not_zero = paleolith2shapefile(filename,age_range)\n",
    "    \n",
    "    print(len(partitioned_point_features_not_zero))\n",
    "    \n",
    "    point = []\n",
    "    for point in partitioned_point_features_not_zero:\n",
    "        features_collection.append(point)\n",
    "\n",
    "output_feature_collection = pygplates.FeatureCollection(features_collection)\n",
    "output_feature_collection.write('Output/ProcessingData_1/PresentDay_LithData_Matthews2016_410-0Ma_AllTypes.shp')"
   ]
  },
  {
   "cell_type": "markdown",
   "metadata": {},
   "source": [
    "## Save coals, evaporties and glacial deposits as one shpefile or save them individually"
   ]
  },
  {
   "cell_type": "code",
   "execution_count": 12,
   "metadata": {
    "collapsed": false
   },
   "outputs": [
    {
     "name": "stdout",
     "output_type": "stream",
     "text": [
      "../Data/Original_Data/Map06 LDevon v5.csv (419, 393)\n",
      "3\n",
      "../Data/Original_Data/Map21 preAlbian  v6.csv (393, 388)\n",
      "252\n",
      "../Data/Original_Data/Map11 Serpuk v4.csv (388, 383)\n",
      "117\n",
      "../Data/Original_Data/Map16 LTrias v4.csv (383, 359)\n",
      "19\n",
      "../Data/Original_Data/Map04 MUOrdo v5.csv (359, 331)\n",
      "0\n",
      "../Data/Original_Data/Map22 AlbianTuron v5.csv (331, 323)\n",
      "179\n",
      "../Data/Original_Data/Map24 Paleocene  v4.csv (323, 307)\n",
      "121\n",
      "../Data/Original_Data/Map20 UJuras v4.csv (307, 299)\n",
      "88\n",
      "../Data/Original_Data/Map17 MTrias v4.csv (299, 290)\n",
      "22\n",
      "../Data/Original_Data/Map14  AssSak v4.csv (290, 252)\n",
      "301\n",
      "../Data/Original_Data/Map25 LEocene v4.csv (252, 247)\n",
      "186\n",
      "../Data/Original_Data/Map15 ArtinLoping v4.csv (247, 237)\n",
      "340\n",
      "../Data/Original_Data/Map03 LOrdo v5.csv (237, 201)\n",
      "0\n",
      "../Data/Original_Data/Map08 Givet v5.csv (201, 164)\n",
      "11\n",
      "../Data/Original_Data/Map13 Steph v4.csv (164, 145)\n",
      "276\n",
      "../Data/Original_Data/Map07 Eifel v5.csv (145, 113)\n",
      "5\n",
      "../Data/Original_Data/Map05 Silurian v5.csv (113, 89.8)\n",
      "0\n",
      "../Data/Original_Data/Map12 BashMosc v4.csv (89.8, 66.0)\n",
      "316\n",
      "../Data/Original_Data/Map29 Present.csv (66.0, 56.0)\n",
      "1372\n",
      "../Data/Original_Data/Map19 LMJuras v4.csv (56.0, 47.8)\n",
      "489\n",
      "../Data/Original_Data/Map23 ConiacCampMaas v5.csv (47.8, 33.9)\n",
      "177\n",
      "../Data/Original_Data/Map10 TourVise v4.csv (33.9, 23.0)\n",
      "229\n",
      "../Data/Original_Data/Map09 UDevon v5.csv (23.0, 5.3)\n",
      "27\n",
      "../Data/Original_Data/Map26 MUEocene v4.csv (0.01, -0.01)\n",
      "254\n"
     ]
    }
   ],
   "source": [
    "features_collection = []\n",
    "\n",
    "for filename,age_range in zip(file_list[5:],age_range_list[5:]): #zip(file_list[5:],age_range_list[5:])\n",
    "    print(filename, age_range)\n",
    "    \n",
    "    partitioned_point_features_not_zero= []\n",
    "    partitioned_point_features_not_zero = paleolith2shapefile(filename,age_range)\n",
    "        \n",
    "    ################### save all types of data individually\n",
    "    #output_feature_collection = pygplates.FeatureCollection(point_features)\n",
    "    #output_feature_collection.write('PresentDay_LithData_Matthews2016_AllTypes_%sMa.shp' % np.mean(age_range))\n",
    "    \n",
    "    ################### save coals, evaporites and TDG\n",
    "    point_features_onetype = []\n",
    "    for point in partitioned_point_features_not_zero:\n",
    "        if point.get_shapefile_attribute('LithCode')=='C':  # coals\n",
    "        #if point.get_shapefile_attribute('LithCode')=='E':  # evaporites\n",
    "        #if point.get_shapefile_attribute('LithCode')=='T' or point.get_shapefile_attribute('LithCode')=='D' or point.get_shapefile_attribute('LithCode')=='G': # glacial deposits\n",
    "        #if point.get_shapefile_attribute('LithCode')=='C' or point.get_shapefile_attribute('LithCode')=='E' or point.get_shapefile_attribute('LithCode')=='T' or point.get_shapefile_attribute('LithCode')=='D' or point.get_shapefile_attribute('LithCode')=='G': # the three types\n",
    "            point_features_onetype.append(point)\n",
    "            features_collection.append(point)\n",
    "    print(len(point_features_onetype))\n",
    "    #output_feature_collection = pygplates.FeatureCollection(point_features_onetype)\n",
    "    #output_feature_collection.write('PresentDay_LithData_Matthews2016_CEG_%sMa.shp' % np.mean(age_range))\n",
    "\n",
    "output_feature_collection = pygplates.FeatureCollection(features_collection)\n",
    "output_feature_collection.write('Output/ProcessingData_1/PresentDay_Coals_Matthews2016_410-0Ma.shp')\n"
   ]
  },
  {
   "cell_type": "code",
   "execution_count": null,
   "metadata": {
    "collapsed": true
   },
   "outputs": [],
   "source": []
  }
 ],
 "metadata": {
  "kernelspec": {
   "display_name": "Python 3",
   "language": "python",
   "name": "python3"
  },
  "language_info": {
   "codemirror_mode": {
    "name": "ipython",
    "version": 3
   },
   "file_extension": ".py",
   "mimetype": "text/x-python",
   "name": "python",
   "nbconvert_exporter": "python",
   "pygments_lexer": "ipython3"
  },
  "toc": {
   "nav_menu": {},
   "number_sections": true,
   "sideBar": true,
   "skip_h1_title": false,
   "title_cell": "Table of Contents",
   "title_sidebar": "Contents",
   "toc_cell": false,
   "toc_position": {},
   "toc_section_display": true,
   "toc_window_display": false
  }
 },
 "nbformat": 4,
 "nbformat_minor": 0
}
