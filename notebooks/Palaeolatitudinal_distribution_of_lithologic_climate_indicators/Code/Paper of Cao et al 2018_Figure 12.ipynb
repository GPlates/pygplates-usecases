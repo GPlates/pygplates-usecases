{
 "cells": [
  {
   "cell_type": "markdown",
   "metadata": {},
   "source": [
    "# Materials associated with the paper: \n",
    "\n",
    "Cao, W., Williams, S., Flament, N., Zahirovic, S., Scotese, C., and Müller, R. D., 2018. Paleolatitudinal distribution of lithologic indicators of climate in a paleogeographic framework. Geological Magazine, 1-24. doi:10.1017/S0016756818000110.\n",
    "\n",
    "### This Jupyter notebook is used to generate Figure 12 for the paper.\n",
    "\n",
    "The code in this notebook is written in Python 2.7. It utilises the standard scientific Python modules including numpy, pandas, mpl_toolkits, matplotlib, os, and the open source module 'pygplates' which provides a Python API to the GPlates software (https://www.gplates.org/). Here, the source code has been modified to Python 3.7 by Behnam Sadeghi."
   ]
  },
  {
   "cell_type": "markdown",
   "metadata": {},
   "source": [
    "## Import Python modules"
   ]
  },
  {
   "cell_type": "code",
   "execution_count": 1,
   "metadata": {},
   "outputs": [],
   "source": [
    "import glob, os\n",
    "os.environ['PROJ_LIB'] = r'C:\\ProgramData\\Anaconda3\\pkgs\\proj4-5.1.0-hfa6e2cd_1\\Library\\share'\n",
    "from mpl_toolkits.basemap import Basemap\n",
    "import numpy as np\n",
    "from mpl_toolkits.axes_grid1 import make_axes_locatable\n",
    "import matplotlib.pyplot as plt\n",
    "import pandas as pd    \n",
    "from matplotlib import colors\n",
    "from matplotlib import legend\n",
    "import pygplates\n",
    "from matplotlib.patches import Polygon\n",
    "from matplotlib.ticker import MultipleLocator, FormatStrFormatter\n",
    "%matplotlib inline"
   ]
  },
  {
   "cell_type": "markdown",
   "metadata": {},
   "source": [
    "## Figure 11"
   ]
  },
  {
   "cell_type": "markdown",
   "metadata": {},
   "source": [
    "### Read the data and make the figure"
   ]
  },
  {
   "cell_type": "code",
   "execution_count": 2,
   "metadata": {
    "scrolled": false
   },
   "outputs": [
    {
     "data": {
      "image/png": "[encoded data removed]",
      "text/plain": [
       "<Figure size 288x2592 with 24 Axes>"
      ]
     },
     "metadata": {
      "needs_background": "light"
     },
     "output_type": "display_data"
    }
   ],
   "source": [
    "#######################\n",
    "# Matthews2016 model, bin size: 10 degree\n",
    "# Coals\n",
    "data_raw_Matthews2016 = pd.read_excel('../Data/Lithologic_Data/LithData_TwoBiasRemoved/Coals_Matthews2016_Size10_Normalised.xlsx')\n",
    "data_Matthews2016_BinningSize10 = np.array(data_raw_Matthews2016)\n",
    "\n",
    "fig, axes = plt.subplots(nrows=24, ncols=1,figsize=(4, 36))\n",
    "\n",
    "for i in np.arange(0,24,1):\n",
    "    \n",
    "    ################################################\n",
    "    # binning size: 10 degree\n",
    "    yedges_binningsize10 = np.arange(-90, 91, 10) #latitude, specify the bin size   \n",
    "\n",
    "    # Coals, evaporites and glacial deposits\n",
    "    axes[23-i].bar(np.array(yedges_binningsize10[:-1]), data_Matthews2016_BinningSize10[:,i], width=10, color='blue', edgecolor='black') #,linewidth=0.5, edgecolor='grey',alpha=0.4\n",
    "    \n",
    "    axes[23-i].set_xticks(np.arange(-90, 91, 30))\n",
    "    axes[23-i].set_xticklabels([])\n",
    "    axes[23-i].set_xlim((90,-90))\n",
    "    axes[23-i].set_ylim(ymin=0)\n",
    "    axes[23-i].xaxis.set_tick_params(direction='out') #labelsize=12,\n",
    "    #plt.setp(axes[i].get_xticklabels(), fontsize=12.) #,rotation=50\n",
    "\n",
    "    axes[23-i].yaxis.set_tick_params(labelsize=14,direction='out') #\n",
    "    axes[23-i].xaxis.set_ticks_position('top') # bottom\n",
    "    axes[23-i].set_yticks(axes[23-i].get_yticks()[::2]) # set the major ticks\n",
    "    interval = np.diff(axes[23-i].get_yticks())[0]\n",
    "    axes[23-i].yaxis.set_minor_locator(MultipleLocator(interval/2))\n",
    "    axes[23-i].tick_params(which = 'both', direction = 'out') # if only want to set y-axis: axes[1,2].yaxis.set_tick_params(labelsize=12,direction='out')\n",
    "    axes[23-i].yaxis.set_ticks_position('left')\n",
    "\n",
    "fig.subplots_adjust(hspace=0.00)\n",
    "plt.savefig('Output/Fig_11a.pdf')\n",
    "plt.show()\n"
   ]
  },
  {
   "cell_type": "markdown",
   "metadata": {},
   "source": [
    "## Figure 12a"
   ]
  },
  {
   "cell_type": "markdown",
   "metadata": {},
   "source": [
    "### Read the data"
   ]
  },
  {
   "cell_type": "code",
   "execution_count": 3,
   "metadata": {},
   "outputs": [
    {
     "name": "stdout",
     "output_type": "stream",
     "text": [
      "[419.  393.  393.  388.  388.  383.  383.  359.  359.  331.  331.  323.\n",
      " 323.  307.  307.  299.  299.  290.  290.  252.  252.  247.  247.  237.\n",
      " 237.  201.  201.  164.  164.  145.  145.  113.  113.   89.8  89.8  66.\n",
      "  66.   56.   56.   47.8  47.8  33.9  33.9  23.   23.    5.3   5.3   0. ]\n",
      "sorry, no data\n",
      "sorry, no data\n",
      "sorry, no data\n",
      "sorry, no data\n",
      "[ 0.          0.          0.          0.                 nan         nan\n",
      "  0.          0.          9.8399263   0.          0.                 nan\n",
      "  0.          0.          0.          0.         40.11989006  0.\n",
      "  0.          0.          9.38206942  0.         14.20742366  0.        ]\n",
      "[ 0.     0.     0.     0.     0.     0.     0.     0.     0.     0.\n",
      "  0.     0.     0.     0.     0.     0.    36.434  0.     0.     0.\n",
      "  0.     0.     0.     0.   ]\n"
     ]
    }
   ],
   "source": [
    "data_peaks = pd.read_excel('../Data/Fig12/PeakLatitude_EachMap.xlsx')\n",
    "time = np.zeros(len(data_peaks['FromAge'])*2)\n",
    "time[::2] = data_peaks['FromAge']\n",
    "time[1::2] = data_peaks['ToAge']\n",
    "print (time)\n",
    "\n",
    "# coal peaks\n",
    "data_C = np.zeros(len(data_peaks['Final_Coals'])*2)\n",
    "data_C[::2] = np.asarray(data_peaks['Final_Coals'])\n",
    "data_C[1::2] = np.asarray(data_peaks['Final_Coals'])\n",
    "\n",
    "# Confidence interval = 50%\n",
    "Boundary_50CI_1 = np.zeros(24)\n",
    "Boundary_50CI_2 = np.zeros(24)\n",
    "Boundary_50CI_3 = np.zeros(24)\n",
    "Boundary_50CI_4 = np.zeros(24)\n",
    "\n",
    "for i in np.arange(0,24,1):\n",
    "    \n",
    "    Coals_raw = pd.read_csv('../Data/HDR/9_3_Coals_Matthews2016_Size5_Normalised/hdr_'+str(i)+'.csv')\n",
    "    Coals = np.array(Coals_raw)\n",
    "    Boundary_50CI_1[i] = -1*Coals[2,1]\n",
    "    \n",
    "    try:\n",
    "        if np.float16(Coals[2,2]) != np.float16(-1*Coals[2,1]):\n",
    "            Boundary_50CI_2[i] = -1*Coals[2,2]\n",
    "    except IndexError:\n",
    "        print ('sorry, no data')\n",
    "        \n",
    "    try:\n",
    "        if np.float16(Coals[2,3]) != np.float16(-1*Coals[2,2]) and Coals[2,3] != None:\n",
    "            Boundary_50CI_3[i]= -1*Coals[2,3]\n",
    "    except IndexError:\n",
    "        print ('sorry, no data')\n",
    "\n",
    "print (Boundary_50CI_3)\n",
    "\n",
    "\n",
    "Boundary_50CI_4 = np.array([0,0,0,0,0,\n",
    "                       0,0,0,0,0,\n",
    "                       0,0,0,0,0,\n",
    "                       0,36.434,0,0,0,\n",
    "                       0,0,0,0])\n",
    "print (Boundary_50CI_4)\n"
   ]
  },
  {
   "cell_type": "markdown",
   "metadata": {},
   "source": [
    "### Data processing"
   ]
  },
  {
   "cell_type": "code",
   "execution_count": 4,
   "metadata": {},
   "outputs": [
    {
     "name": "stdout",
     "output_type": "stream",
     "text": [
      "sorry, no data\n",
      "sorry, no data\n",
      "sorry, no data\n",
      "sorry, no data\n",
      "[61.02106228 62.75771908 57.12757372 43.03026964 84.69764024 83.41197717\n",
      " 63.23903373 60.94866282 90.         29.37646465 68.48632633 90.\n",
      " 74.41210791 87.74818212 90.         90.         85.5843409  87.71040081\n",
      " 89.80049512 74.31003641 74.3931882  71.54375476 66.74639197 79.98795721]\n",
      "[ 9.96376945  0.          0.          0.         63.15274654 71.13786222\n",
      "  0.          0.         67.3674586  13.76094538  0.         31.98613604\n",
      " 14.00079566 22.04444037 10.87111498 22.34655677  8.24008461 19.95926294\n",
      " 27.12850562  0.          0.          0.          0.         22.89776836]\n",
      "[ 0.                 nan  0.          0.         48.42455527 63.88136901\n",
      "  0.          0.         27.57410262  0.                 nan 26.50101629\n",
      "  9.59465157  0.          0.          9.50362113  0.         11.60840204\n",
      " 19.81481927         nan         nan         nan         nan 15.85544156]\n"
     ]
    }
   ],
   "source": [
    "B50CI_1 = np.zeros(len(Boundary_50CI_1)*2)\n",
    "B50CI_1[::2] = Boundary_50CI_1[:]\n",
    "B50CI_1[1::2] = Boundary_50CI_1[:]\n",
    "\n",
    "B50CI_2 = np.zeros(len(Boundary_50CI_2)*2)\n",
    "B50CI_2[::2] = Boundary_50CI_2[:]\n",
    "B50CI_2[1::2] = Boundary_50CI_2[:]\n",
    "\n",
    "B50CI_3 = np.zeros(len(Boundary_50CI_3)*2)\n",
    "B50CI_3[::2] = Boundary_50CI_3[:]\n",
    "B50CI_3[1::2] = Boundary_50CI_3[:]\n",
    "\n",
    "B50CI_4 = np.zeros(len(Boundary_50CI_4)*2)\n",
    "B50CI_4[::2] = Boundary_50CI_4[:]\n",
    "B50CI_4[1::2] = Boundary_50CI_4[:]\n",
    "\n",
    "# Confidence interval = 95%\n",
    "Boundary_95CI_1 = np.zeros(24)\n",
    "Boundary_95CI_2 = np.zeros(24)\n",
    "Boundary_95CI_3 = np.zeros(24)\n",
    "Boundary_95CI_4 = np.zeros(24)\n",
    "\n",
    "for i in np.arange(0,24,1):\n",
    "    \n",
    "    Coals_raw = pd.read_csv('../Data/HDR/9_3_Coals_Matthews2016_Size5_Normalised/hdr_'+str(i)+'.csv')\n",
    "    #Coals_raw = pd.read_csv('/Users/wenchaocao/Research/41_Paleobiology_Paleotectonics/HDR/9_3_Coals_Matthews2016_Size5_Normalised/hdr_'+str(i)+'.csv')\n",
    "\n",
    "    Coals = np.array(Coals_raw)\n",
    "    \n",
    "    Boundary_95CI_1[i] = -1*Coals[0,1]\n",
    "    \n",
    "    try:\n",
    "        if np.float16(Coals[0,2]) != np.float16(-1*Coals[0,1]):\n",
    "            Boundary_95CI_2[i] = -1*Coals[0,2]\n",
    "    except IndexError:\n",
    "        print ('sorry, no data')\n",
    "    \n",
    "    try:\n",
    "        if np.float16(Coals[0,3]) != np.float16(-1*Coals[0,2]) and Coals[0,3] != None:\n",
    "            Boundary_95CI_3[i]= -1*Coals[0,3]\n",
    "    except IndexError:\n",
    "        print ('sorry, no data')\n",
    "\n",
    "print (Boundary_95CI_1)\n",
    "print (Boundary_95CI_2)\n",
    "print (Boundary_95CI_3)\n",
    "\n",
    "B95CI_1 = np.zeros(len(Boundary_95CI_1)*2)\n",
    "B95CI_1[::2] = Boundary_95CI_1[:]\n",
    "B95CI_1[1::2] = Boundary_95CI_1[:]\n",
    "\n",
    "B95CI_2 = np.zeros(len(Boundary_95CI_2)*2)\n",
    "B95CI_2[::2] = Boundary_95CI_2[:]\n",
    "B95CI_2[1::2] = Boundary_95CI_2[:]\n",
    "\n",
    "B95CI_3 = np.zeros(len(Boundary_95CI_3)*2)\n",
    "B95CI_3[::2] = Boundary_95CI_3[:]\n",
    "B95CI_3[1::2] = Boundary_95CI_3[:]\n",
    "\n",
    "B95CI_4 = np.zeros(len(Boundary_95CI_4)*2)\n",
    "B95CI_4[::2] = Boundary_95CI_4[:]\n",
    "B95CI_4[1::2] = Boundary_95CI_4[:]\n",
    "    "
   ]
  },
  {
   "cell_type": "markdown",
   "metadata": {},
   "source": [
    "### Make the figure"
   ]
  },
  {
   "cell_type": "code",
   "execution_count": 5,
   "metadata": {},
   "outputs": [
    {
     "data": {
      "image/png": "[encoded data removed]",
      "text/plain": [
       "<Figure size 864x432 with 1 Axes>"
      ]
     },
     "metadata": {
      "needs_background": "light"
     },
     "output_type": "display_data"
    }
   ],
   "source": [
    "fig, axes = plt.subplots(nrows=1, ncols=1,figsize=(12, 6))\n",
    "\n",
    "# 95%\n",
    "axes.fill_between(time,B95CI_2,B95CI_1,facecolor='grey',edgecolor='none',interpolate=False,alpha=0.3,label='Coals')\n",
    "axes.fill_between(time,B95CI_4,B95CI_3,facecolor='grey',edgecolor='none',interpolate=False,alpha=0.3,label='Coals')\n",
    "\n",
    "# 50%\n",
    "axes.fill_between(time,B50CI_2,B50CI_1,facecolor='blue',edgecolor='none',interpolate=False,alpha=0.4,label='Coals')\n",
    "axes.fill_between(time,B50CI_4,B50CI_3,facecolor='blue',edgecolor='none',interpolate=False,alpha=0.4,label='Coals')\n",
    "\n",
    "axes.plot(time,data_C,'blue', alpha=0.5) #,linewidth=.0\n",
    "axes.plot(time,data_C,'blue', alpha=0.5) #,linewidth=1\n",
    "\n",
    "plt.xticks(np.hstack((data_peaks['FromAge'],data_peaks['ToAge'])),rotation=90,size=8) #, rotation=50,,verticalalignment='top'\n",
    "axes.set_ylabel('Latitude', fontsize=14) \n",
    "axes.set_xlabel('Time (Ma)', fontsize=14) \n",
    "axes.set_xlim((419,0))\n",
    "axes.set_ylim(ymin=0)\n",
    "axes.xaxis.set_tick_params(direction='out')\n",
    "axes.yaxis.set_tick_params(labelsize=12,direction='out')\n",
    "axes.xaxis.set_ticks_position('both')\n",
    "axes.yaxis.set_ticks_position('left')\n",
    "#axes.legend()\n",
    "\n",
    "plt.savefig('Output/Fig_12a.pdf')\n",
    "plt.show()\n"
   ]
  },
  {
   "cell_type": "markdown",
   "metadata": {},
   "source": [
    "## Figure 12b"
   ]
  },
  {
   "cell_type": "markdown",
   "metadata": {},
   "source": [
    "### Read the data"
   ]
  },
  {
   "cell_type": "code",
   "execution_count": 6,
   "metadata": {},
   "outputs": [
    {
     "name": "stdout",
     "output_type": "stream",
     "text": [
      "sorry, no data\n",
      "sorry, no data\n",
      "sorry, no data\n",
      "sorry, no data\n",
      "sorry, no data\n",
      "[17.54577731 32.9661596  31.88169191 32.23236462 38.75329368 24.17631354\n",
      " 27.48048393 37.97567777 23.32142621 27.38103664 27.91535641 19.55027784\n",
      " 21.11028119 23.16137201 33.11671109 34.0156875  30.10264206 32.21682981\n",
      " 32.80621928 23.55958179 42.51999283 45.15474357 44.57015651 43.60501884]\n",
      "[ 0.         11.60727048 10.97843096  9.87524266 13.84778556  0.\n",
      "  3.28981488 19.80961245  0.          4.27114755  7.96813501  0.\n",
      "  0.          1.10183254  9.36912012 11.02364509  7.68044744  8.75247125\n",
      "  8.76237496  2.02967803 19.15976889 28.06265036 24.91555401 24.48009794]\n",
      "[0.         0.         0.         0.         0.         0.\n",
      " 0.         8.26489103 0.         0.         0.         0.\n",
      " 0.         0.         0.         0.         0.         0.\n",
      " 0.         0.         0.         0.         0.         0.        ]\n",
      "sorry, no data\n",
      "sorry, no data\n",
      "sorry, no data\n",
      "sorry, no data\n",
      "[61.02106228 62.75771908 57.12757372 43.03026964 84.69764024 83.41197717\n",
      " 63.23903373 60.94866282 90.         29.37646465 68.48632633 90.\n",
      " 74.41210791 87.74818212 90.         90.         85.5843409  87.71040081\n",
      " 89.80049512 74.31003641 74.3931882  71.54375476 66.74639197 79.98795721]\n",
      "[ 9.96376945  0.          0.          0.         63.15274654 71.13786222\n",
      "  0.          0.         67.3674586  13.76094538  0.         31.98613604\n",
      " 14.00079566 22.04444037 10.87111498 22.34655677  8.24008461 19.95926294\n",
      " 27.12850562  0.          0.          0.          0.         22.89776836]\n",
      "[ 0.                 nan  0.          0.         48.42455527 63.88136901\n",
      "  0.          0.         27.57410262  0.                 nan 26.50101629\n",
      "  9.59465157  0.          0.          9.50362113  0.         11.60840204\n",
      " 19.81481927         nan         nan         nan         nan 15.85544156]\n"
     ]
    }
   ],
   "source": [
    "# aplara = 50%\n",
    "Boundary_50CI_1 = np.zeros(24)\n",
    "Boundary_50CI_2 = np.zeros(24)\n",
    "Boundary_50CI_3 = np.zeros(24)\n",
    "Boundary_50CI_4 = np.zeros(24)\n",
    "\n",
    "for i in np.arange(0,24,1):\n",
    "    \n",
    "    data_raw = pd.read_csv('../Data/HDR/9_3_Evaporites_Matthews2016_Size5_Normalised/hdr_'+str(i)+'.csv')\n",
    "    data = np.array(data_raw)\n",
    "    Boundary_50CI_1[i] = -1*data[2,1]\n",
    "    \n",
    "    try:\n",
    "        if np.float16(data[2,2]) != np.float16(-1*data[2,1]):\n",
    "            Boundary_50CI_2[i] = -1*data[2,2]\n",
    "    except IndexError:\n",
    "        print ('sorry, no data')\n",
    "        \n",
    "    try:\n",
    "        if np.float16(data[2,3]) != np.float16(-1*data[2,2]) and data[2,3] != None:\n",
    "            Boundary_50CI_3[i]= -1*data[2,3]\n",
    "    except IndexError:\n",
    "        print ('sorry, no data')\n",
    "\n",
    "print (Boundary_50CI_1)\n",
    "print (Boundary_50CI_2)\n",
    "print (Boundary_50CI_3)\n",
    "\n",
    "\n",
    "# aplara = 95%\n",
    "Boundary_95CI_1 = np.zeros(24)\n",
    "Boundary_95CI_2 = np.zeros(24)\n",
    "Boundary_95CI_3 = np.zeros(24)\n",
    "Boundary_95CI_4 = np.zeros(24)\n",
    "\n",
    "for i in np.arange(0,24,1):\n",
    "    \n",
    "    data_raw = pd.read_csv('../Data/HDR/9_3_Coals_Matthews2016_Size5_Normalised/hdr_'+str(i)+'.csv')\n",
    "    data = np.array(data_raw)\n",
    "    \n",
    "    Boundary_95CI_1[i] = -1*data[0,1]\n",
    "    \n",
    "    try:\n",
    "        if np.float16(data[0,2]) != np.float16(-1*data[0,1]):\n",
    "            Boundary_95CI_2[i] = -1*data[0,2]\n",
    "    except IndexError:\n",
    "        print ('sorry, no data')\n",
    "        \n",
    "    try:\n",
    "        if np.float16(data[0,3]) != np.float16(-1*data[0,2]):\n",
    "            Boundary_95CI_3[i] = -1*data[0,3]\n",
    "    except IndexError:\n",
    "        print ('sorry, no data')\n",
    "\n",
    "print (Boundary_95CI_1)\n",
    "print (Boundary_95CI_2)\n",
    "print (Boundary_95CI_3)\n"
   ]
  },
  {
   "cell_type": "markdown",
   "metadata": {},
   "source": [
    "### Data processing"
   ]
  },
  {
   "cell_type": "code",
   "execution_count": 7,
   "metadata": {},
   "outputs": [],
   "source": [
    "B50CI_1 = np.zeros(len(Boundary_50CI_1)*2)\n",
    "B50CI_1[::2] = Boundary_50CI_1[:]\n",
    "B50CI_1[1::2] = Boundary_50CI_1[:]\n",
    "\n",
    "B50CI_2 = np.zeros(len(Boundary_50CI_2)*2)\n",
    "B50CI_2[::2] = Boundary_50CI_2[:]\n",
    "B50CI_2[1::2] = Boundary_50CI_2[:]\n",
    "\n",
    "B50CI_3 = np.zeros(len(Boundary_50CI_3)*2)\n",
    "B50CI_3[::2] = Boundary_50CI_3[:]\n",
    "B50CI_3[1::2] = Boundary_50CI_3[:]\n",
    "\n",
    "B95CI_1 = np.zeros(len(Boundary_95CI_1)*2)\n",
    "B95CI_1[::2] = Boundary_95CI_1[:]\n",
    "B95CI_1[1::2] = Boundary_95CI_1[:]\n",
    "\n",
    "B95CI_2 = np.zeros(len(Boundary_95CI_2)*2)\n",
    "B95CI_2[::2] = Boundary_95CI_2[:]\n",
    "B95CI_2[1::2] = Boundary_95CI_2[:]\n",
    "\n",
    "B95CI_3 = np.zeros(len(Boundary_95CI_3)*2)\n",
    "B95CI_3[::2] = Boundary_95CI_3[:]\n",
    "B95CI_3[1::2] = Boundary_95CI_3[:]"
   ]
  },
  {
   "cell_type": "markdown",
   "metadata": {},
   "source": [
    "### Make the figure"
   ]
  },
  {
   "cell_type": "code",
   "execution_count": 8,
   "metadata": {},
   "outputs": [
    {
     "data": {
      "image/png": "[encoded data removed]",
      "text/plain": [
       "<Figure size 864x432 with 1 Axes>"
      ]
     },
     "metadata": {
      "needs_background": "light"
     },
     "output_type": "display_data"
    }
   ],
   "source": [
    "fig, axes = plt.subplots(nrows=1, ncols=1,figsize=(12, 6))\n",
    "\n",
    "# 95%\n",
    "axes.fill_between(time,B95CI_2,B95CI_1,facecolor='grey',edgecolor='none',interpolate=False,alpha=0.3,label='Coals')\n",
    "axes.fill_between(time,0,B95CI_3,facecolor='grey',edgecolor='none',interpolate=False,alpha=0.3,label='Coals')\n",
    "\n",
    "# 50%\n",
    "axes.fill_between(time,B50CI_2,B50CI_1,facecolor='blue',edgecolor='none',interpolate=False,alpha=0.4,label='Coals')\n",
    "axes.fill_between(time,0,B50CI_3,facecolor='blue',edgecolor='none',interpolate=False,alpha=0.4,label='Coals')\n",
    "\n",
    "# Evaporite peaks\n",
    "data_E = np.zeros(len(data_peaks['Evaporites_Peak'])*2)\n",
    "data_E[::2] = np.asarray(data_peaks['Evaporites_Peak'])\n",
    "data_E[1::2] = np.asarray(data_peaks['Evaporites_Peak'])\n",
    "axes.plot(time,data_E,'blue', alpha=0.5) #,linewidth=.0\n",
    "\n",
    "plt.xticks(np.hstack((data_peaks['FromAge'],data_peaks['ToAge'])),rotation=90,size=8) #, rotation=50,,verticalalignment='top'\n",
    "axes.set_ylabel('Latitude', fontsize=14) \n",
    "axes.set_xlabel('Time (Ma)', fontsize=14) \n",
    "axes.set_xlim((419,0))\n",
    "axes.set_ylim((0,90))\n",
    "axes.xaxis.set_tick_params(direction='out')\n",
    "axes.yaxis.set_tick_params(labelsize=12,direction='out')\n",
    "axes.xaxis.set_ticks_position('both')\n",
    "axes.yaxis.set_ticks_position('left')\n",
    "#axes.legend()\n",
    "\n",
    "plt.savefig('Output/Fig_12b.pdf')\n",
    "plt.show()\n"
   ]
  },
  {
   "cell_type": "markdown",
   "metadata": {},
   "source": [
    "## Figure 12c"
   ]
  },
  {
   "cell_type": "markdown",
   "metadata": {},
   "source": [
    "### Read the data"
   ]
  },
  {
   "cell_type": "code",
   "execution_count": 9,
   "metadata": {},
   "outputs": [
    {
     "name": "stdout",
     "output_type": "stream",
     "text": [
      "[ 0.          0.          0.         70.71754806 62.98392173 74.38792473\n",
      " 57.50718736 67.96171087 72.43393759 78.60706296  0.          0.\n",
      "  0.         90.         90.         77.81199372  0.         90.\n",
      " 67.73698918 74.50583019 65.21246729 74.27551004 67.52500058 90.        ]\n",
      "[ 0.          0.          0.         51.2482926  40.15751137 60.24200905\n",
      " 39.92471414 47.51623601 52.81893907 65.6053133   0.          0.\n",
      "  0.         83.83793437 80.18972858 66.42286602  0.         74.911144\n",
      " 46.70817552 60.0926771  49.47543935 58.99725668 48.7721411  75.78811211]\n",
      "[0.         0.         0.         0.         3.52716198 0.\n",
      " 0.         6.70597804 0.         0.         0.         0.\n",
      " 0.         0.         0.         0.         0.         0.\n",
      " 0.         0.         0.         0.         0.         0.        ]\n",
      "[ 0.          0.          0.         82.13207157 71.50627236 82.76338597\n",
      " 71.56262276 76.90339976 83.53077047 86.22600784  0.          0.\n",
      "  0.         90.         90.         84.37606899  0.         90.\n",
      " 80.87713791 82.82376794 76.31774072 81.41497479 79.91540645 90.        ]\n",
      "[ 0.          0.          0.         30.52983999 26.32745474 45.05469706\n",
      " 24.34491922 29.50801618 24.46630406 37.26446506  0.          0.\n",
      "  0.         69.62929917 60.84951288 53.95888549  0.         43.57263077\n",
      " 28.7088123  44.85252634 34.65070339 35.58199831 29.80249704 49.88238702]\n",
      "[ 0.          0.          0.          0.         23.71687366  0.\n",
      "  0.         23.18640734  0.          0.          0.          0.\n",
      "  0.          0.          0.          0.          0.          0.\n",
      "  0.          0.          0.          0.          0.          0.        ]\n"
     ]
    }
   ],
   "source": [
    "Boundary_50CI_1 = np.zeros(24)\n",
    "Boundary_50CI_2 = np.zeros(24)\n",
    "Boundary_50CI_3 = np.zeros(24)\n",
    "Boundary_50CI_4 = np.zeros(24)\n",
    "\n",
    "for i in np.arange(0,24,1):\n",
    "    \n",
    "    data_raw = '../Data/HDR/9_3_Glacial_Matthews2016_Size5_Normalised/hdr_'+str(i)+'.csv'\n",
    "    \n",
    "    if os.path.isfile(data_raw):\n",
    "        data_raw = pd.read_csv('../Data/HDR/9_3_Glacial_Matthews2016_Size5_Normalised/hdr_'+str(i)+'.csv')\n",
    "        data = np.array(data_raw)\n",
    "        Boundary_50CI_1[i] = -1*data[2,1]\n",
    "\n",
    "        try:\n",
    "            if np.float16(data[2,2]) != np.float16(-1*data[2,1]):\n",
    "                Boundary_50CI_2[i] = -1*data[2,2]\n",
    "        except IndexError:\n",
    "            print ('sorry, no data')\n",
    "\n",
    "        try:\n",
    "            if np.float16(data[2,3]) != np.float16(-1*data[2,2]) and data[2,3] != None:\n",
    "                Boundary_50CI_3[i]= -1*data[2,3]\n",
    "        except IndexError:\n",
    "            print ('sorry, no data')\n",
    "\n",
    "print (Boundary_50CI_1)\n",
    "print (Boundary_50CI_2)\n",
    "print (Boundary_50CI_3)\n",
    "\n",
    "\n",
    "# aplara = 95%\n",
    "Boundary_95CI_1 = np.zeros(24)\n",
    "Boundary_95CI_2 = np.zeros(24)\n",
    "Boundary_95CI_3 = np.zeros(24)\n",
    "Boundary_95CI_4 = np.zeros(24)\n",
    "\n",
    "for i in np.arange(0,24,1):\n",
    "    \n",
    "    data_raw = '../Data/HDR/9_3_Glacial_Matthews2016_Size5_Normalised/hdr_'+str(i)+'.csv'\n",
    "    if os.path.isfile(data_raw):\n",
    "        \n",
    "        data_raw = pd.read_csv('../Data/HDR/9_3_Glacial_Matthews2016_Size5_Normalised/hdr_'+str(i)+'.csv')\n",
    "        data = np.array(data_raw)\n",
    "\n",
    "        Boundary_95CI_1[i] = -1*data[0,1]\n",
    "\n",
    "        try:\n",
    "            if np.float16(data[0,2]) != np.float16(-1*data[0,1]):\n",
    "                Boundary_95CI_2[i] = -1*data[0,2]\n",
    "        except IndexError:\n",
    "            print ('sorry, no data')\n",
    "        \n",
    "        try:\n",
    "            if np.float16(data[0,3]) != np.float16(-1*data[0,2]) and data[0,3] != None:\n",
    "                Boundary_95CI_3[i]= -1*data[0,3]\n",
    "        except IndexError:\n",
    "            print ('sorry, no data')\n",
    "\n",
    "print (Boundary_95CI_1)\n",
    "print (Boundary_95CI_2)\n",
    "print (Boundary_95CI_3)\n"
   ]
  },
  {
   "cell_type": "markdown",
   "metadata": {},
   "source": [
    "### Data processing"
   ]
  },
  {
   "cell_type": "code",
   "execution_count": 10,
   "metadata": {},
   "outputs": [],
   "source": [
    "B50CI_1 = np.zeros(len(Boundary_50CI_1)*2)\n",
    "B50CI_1[::2] = Boundary_50CI_1[:]\n",
    "B50CI_1[1::2] = Boundary_50CI_1[:]\n",
    "\n",
    "B50CI_2 = np.zeros(len(Boundary_50CI_2)*2)\n",
    "B50CI_2[::2] = Boundary_50CI_2[:]\n",
    "B50CI_2[1::2] = Boundary_50CI_2[:]\n",
    "\n",
    "B50CI_3 = np.zeros(len(Boundary_50CI_3)*2)\n",
    "B50CI_3[::2] = Boundary_50CI_3[:]\n",
    "B50CI_3[1::2] = Boundary_50CI_3[:]\n",
    "\n",
    "B95CI_1 = np.zeros(len(Boundary_95CI_1)*2)\n",
    "B95CI_1[::2] = Boundary_95CI_1[:]\n",
    "B95CI_1[1::2] = Boundary_95CI_1[:]\n",
    "\n",
    "B95CI_2 = np.zeros(len(Boundary_95CI_2)*2)\n",
    "B95CI_2[::2] = Boundary_95CI_2[:]\n",
    "B95CI_2[1::2] = Boundary_95CI_2[:]\n",
    "\n",
    "B95CI_3 = np.zeros(len(Boundary_95CI_3)*2)\n",
    "B95CI_3[::2] = Boundary_95CI_3[:]\n",
    "B95CI_3[1::2] = Boundary_95CI_3[:]\n"
   ]
  },
  {
   "cell_type": "markdown",
   "metadata": {},
   "source": [
    "### Make the figure"
   ]
  },
  {
   "cell_type": "code",
   "execution_count": 11,
   "metadata": {},
   "outputs": [
    {
     "data": {
      "image/png": "[encoded data removed]",
      "text/plain": [
       "<Figure size 864x432 with 1 Axes>"
      ]
     },
     "metadata": {
      "needs_background": "light"
     },
     "output_type": "display_data"
    }
   ],
   "source": [
    "fig, axes = plt.subplots(nrows=1, ncols=1,figsize=(12, 6))\n",
    "# 95%\n",
    "axes.fill_between(time,B95CI_2,B95CI_1,facecolor='grey',edgecolor='none',interpolate=False,alpha=0.3,label='Coals')\n",
    "axes.fill_between(time,0,B95CI_3,facecolor='grey',edgecolor='none',interpolate=False,alpha=0.3,label='Coals')\n",
    "\n",
    "# 50%\n",
    "axes.fill_between(time,B50CI_2,B50CI_1,facecolor='blue',edgecolor='none',interpolate=False,alpha=0.4,label='Coals')\n",
    "axes.fill_between(time,0,B50CI_3,facecolor='blue',edgecolor='none',interpolate=False,alpha=0.4,label='Coals')\n",
    "\n",
    "# glacial deposits peaks\n",
    "data_G = np.zeros(len(data_peaks['Evaporites_Peak'])*2)\n",
    "data_G[::2] = np.asarray(data_peaks['Glacial_Peak'])\n",
    "data_G[1::2] = np.asarray(data_peaks['Glacial_Peak'])\n",
    "\n",
    "axes.plot(time,data_G,'b', alpha=0.5)\n",
    "\n",
    "plt.xticks(np.hstack((data_peaks['FromAge'],data_peaks['ToAge'])),rotation=90,size=8) #, rotation=50,,verticalalignment='top'\n",
    "axes.set_ylabel('Latitude', fontsize=14) \n",
    "axes.set_xlabel('Time (Ma)', fontsize=14) \n",
    "axes.set_xlim((419,0))\n",
    "axes.set_ylim(ymin=0)\n",
    "axes.xaxis.set_tick_params(direction='out')\n",
    "axes.yaxis.set_tick_params(labelsize=12,direction='out')\n",
    "axes.xaxis.set_ticks_position('both')\n",
    "axes.yaxis.set_ticks_position('left')\n",
    "#axes.legend()\n",
    "\n",
    "plt.savefig('Output/Fig_12c.pdf')\n",
    "plt.show()\n"
   ]
  },
  {
   "cell_type": "markdown",
   "metadata": {},
   "source": [
    "## Figure 12d"
   ]
  },
  {
   "cell_type": "markdown",
   "metadata": {},
   "source": [
    "### Read the data and make the figure"
   ]
  },
  {
   "cell_type": "code",
   "execution_count": 12,
   "metadata": {},
   "outputs": [
    {
     "data": {
      "image/png": "[encoded data removed]",
      "text/plain": [
       "<Figure size 864x432 with 1 Axes>"
      ]
     },
     "metadata": {
      "needs_background": "light"
     },
     "output_type": "display_data"
    }
   ],
   "source": [
    "# read CO2 data\n",
    "data_CO2 = pd.read_excel('../Data/Fig12/ncomms14845-s3_copy.xlsx')\n",
    "#data_CO2['lw95%']\n",
    "\n",
    "fig, ax = plt.subplots(figsize=(12,6))\n",
    "\n",
    "ax.fill_between(data_CO2['Age (Ma)'],data_CO2['lw95%'],data_CO2['up95%'],facecolor='lightgrey',alpha=0.8,edgecolor='white',interpolate=True)\n",
    "ax.fill_between(data_CO2['Age (Ma)'],data_CO2['lw68%'],data_CO2['up68%'],facecolor='grey',alpha=0.8,edgecolor='lightgrey',interpolate=True)\n",
    "\n",
    "ax.plot(data_CO2['Age (Ma)'],data_CO2['pCO2 probability maximum'],c='blue', alpha=1)\n",
    "\n",
    "ax.set_ylabel('CO2 (ppm)', fontsize=16) \n",
    "ax.set_xlabel('Time (Ma)', fontsize=16) \n",
    "ax.set_xlim((419,0))\n",
    "ax.set_ylim(ymin=0)\n",
    "ax.xaxis.set_tick_params(direction='out')\n",
    "ax.yaxis.set_tick_params(labelsize=14,direction='out')\n",
    "ax.xaxis.set_ticks_position('bottom')\n",
    "ax.yaxis.set_ticks_position('left')\n",
    "\n",
    "plt.savefig('Output/Fig_12d.pdf')\n",
    "plt.show()\n"
   ]
  },
  {
   "cell_type": "markdown",
   "metadata": {},
   "source": [
    "## Figure 12e"
   ]
  },
  {
   "cell_type": "markdown",
   "metadata": {},
   "source": [
    "### Read the data"
   ]
  },
  {
   "cell_type": "code",
   "execution_count": 13,
   "metadata": {},
   "outputs": [
    {
     "name": "stdout",
     "output_type": "stream",
     "text": [
      "[[3584 4613 3897 3665 4051 4720 3536 5326 4104 2653 3098 2429 2615 1976\n",
      "  1581 3726 4819 2882 2240 3944 3163 3567 4586 6003]\n",
      " [3770 3778 4489 3784 4120 4477 4224 3544 4410 3311 3650 4398 2903 3979\n",
      "  2779 2600 4070 3249 3836 4132 5111 4612 4083 5239]\n",
      " [2960 3787 4936 4491 4183 4406 4831 4757 4557 3473 4070 4145 3211 4727\n",
      "  3595 2758 2794 2476 3298 4153 6343 6557 5322 7107]\n",
      " [3139 3686 3663 3722 4285 4485 5334 5362 4473 3245 3095 4174 3548 3428\n",
      "  2435 3514 3035 2916 3372 3514 7037 9542 6932 6598]\n",
      " [2720 3508 3670 4535 4316 3522 3796 4152 4444 3900 2349 2933 2941 4224\n",
      "  2790 3639 4817 4538 4403 4338 3947 4197 6302 4299]\n",
      " [2608 2787 2418 2617 2995 2821 2911 2829 3348 4732 3496 2178 2453 4348\n",
      "  3581 1903 2410 2599 3970 3851 2123 2064 3838 2787]\n",
      " [2005 1979 2172 2398 3751 3287 3227 3643 4070 2854 2407 3261 3627 3801\n",
      "  2396 2457 1884 1915 2554 2756  247 1119 1870 1358]\n",
      " [2392 1761 1647 2366 1781 1576 2312 2775 2476 2832 2774 2414 3427 1540\n",
      "  1381 1077 1823 1799 1253  716  455  521 1097  509]\n",
      " [ 938  810  922 1200 1072  864  568  702  838  796  911 1486 1341   41\n",
      "   550  929  891  309    6    0  347    0    0   95]]\n",
      "\n",
      "[[1674 1528 1645 1588 1615 1833 2091 1996 1703 2214 1499  745  890 1471\n",
      "  1029  989 1263 1230 1507 1512 1577 1512 1510 1414]\n",
      " [5608 6217 6325 5692 6002 6048 6023 5484 6289 4519 3355 3592 2340 2919\n",
      "  2931 3502 3253 3584 3908 3997 4591 4510 3979 3917]\n",
      " [6343 6770 6853 6631 5841 5537 4878 4779 5945 7058 6176 5445 5284 4514\n",
      "  5540 5483 5020 5613 5445 6035 7455 6731 6090 5708]\n",
      " [6154 5952 6101 6031 6094 6444 6607 6726 6447 6819 6502 8634 9078 6329\n",
      "  7002 7996 6349 6970 6303 6306 7682 6619 5823 6494]\n",
      " [6223 6107 6749 7192 7405 8398 7322 7124 7307 7592 7897 8884 9406 6926\n",
      "  8076 7882 6222 6941 5864 5715 6802 6540 5354 6569]\n",
      " [7339 7691 8251 8102 7756 7676 6472 6436 6069 7003 7665 6603 6105 7313\n",
      "  8311 7687 7073 6122 5752 6073 5008 4720 4897 5898]\n",
      " [9028 8298 7297 6958 5924 5918 4566 4145 4076 4826 5129 4538 5313 5665\n",
      "  6918 6539 6594 7279 6643 5586 3862 3763 4683 5059]\n",
      " [7635 7515 7874 7842 6624 5409 4947 4665 5142 5587 5384 4676 5664 6119\n",
      "  6901 6672 6457 6556 6266 5776 4097 3433 4182 3493]\n",
      " [7942 6767 7435 7328 7807 7928 6621 5454 6469 7690 7108 6767 6887 7690\n",
      "  7492 6265 6231 6161 6324 4849 5025 4701 3426 1954]]\n",
      "\n",
      "[[ 5258  6141  5542  5253  5666  6553  5627  7322  5807  4867  4597  3174\n",
      "   3505  3447  2610  4715  6082  4112  3747  5456  4740  5079  6096  7417]\n",
      " [ 9378  9995 10814  9476 10122 10525 10247  9028 10699  7830  7005  7990\n",
      "   5243  6898  5710  6102  7323  6833  7744  8129  9702  9122  8062  9156]\n",
      " [ 9303 10557 11789 11122 10024  9943  9709  9536 10502 10531 10246  9590\n",
      "   8495  9241  9135  8241  7814  8089  8743 10188 13798 13288 11412 12815]\n",
      " [ 9293  9638  9764  9753 10379 10929 11941 12088 10920 10064  9597 12808\n",
      "  12626  9757  9437 11510  9384  9886  9675  9820 14719 16161 12755 13092]\n",
      " [ 8943  9615 10419 11727 11721 11920 11118 11276 11751 11492 10246 11817\n",
      "  12347 11150 10866 11521 11039 11479 10267 10053 10749 10737 11656 10868]\n",
      " [ 9947 10478 10669 10719 10751 10497  9383  9265  9417 11735 11161  8781\n",
      "   8558 11661 11892  9590  9483  8721  9722  9924  7131  6784  8735  8685]\n",
      " [11033 10277  9469  9356  9675  9205  7793  7788  8146  7680  7536  7799\n",
      "   8940  9466  9314  8996  8478  9194  9197  8342  4109  4882  6553  6417]\n",
      " [10027  9276  9521 10208  8405  6985  7259  7440  7618  8419  8158  7090\n",
      "   9091  7659  8282  7749  8280  8355  7519  6492  4552  3954  5279  4002]\n",
      " [ 8880  7577  8357  8528  8879  8792  7189  6156  7307  8486  8019  8253\n",
      "   8228  7731  8042  7194  7122  6470  6330  4849  5372  4701  3426  2049]]\n"
     ]
    }
   ],
   "source": [
    "# Read input data\n",
    "\n",
    "mY_raw = pd.read_excel('../Data/Fig12/m_filpped_addup.xlsx')\n",
    "m = np.array(mY_raw)\n",
    "\n",
    "lmY_raw = pd.read_excel('../Data/Fig12/lm_filpped_addup.xlsx')\n",
    "lm = np.array(lmY_raw)\n",
    "\n",
    "i_raw = pd.read_excel('../Data/Fig12/Ice_filpped_addup.xlsx')\n",
    "Ice = np.array(i_raw)\n",
    "\n",
    "sm_raw = pd.read_excel('../Data/Fig12/sm_filpped_addup.xlsx')\n",
    "sm = np.array(sm_raw)\n",
    "\n",
    "elY_raw = pd.read_excel('../Data/Fig12/el_filpped_addup.xlsx')\n",
    "el = np.array(elY_raw)\n",
    "\n",
    "print (sm)\n",
    "print ('')\n",
    "print (el)\n",
    "print ('')\n",
    "print (sm+el)"
   ]
  },
  {
   "cell_type": "code",
   "execution_count": 14,
   "metadata": {},
   "outputs": [
    {
     "data": {
      "text/plain": [
       "(9, 24)"
      ]
     },
     "execution_count": 14,
     "metadata": {},
     "output_type": "execute_result"
    }
   ],
   "source": [
    "sm.shape"
   ]
  },
  {
   "cell_type": "code",
   "execution_count": 15,
   "metadata": {},
   "outputs": [
    {
     "data": {
      "text/plain": [
       "(9, 24)"
      ]
     },
     "execution_count": 15,
     "metadata": {},
     "output_type": "execute_result"
    }
   ],
   "source": [
    "el.shape"
   ]
  },
  {
   "cell_type": "code",
   "execution_count": 16,
   "metadata": {},
   "outputs": [
    {
     "data": {
      "text/plain": [
       "(9, 24)"
      ]
     },
     "execution_count": 16,
     "metadata": {},
     "output_type": "execute_result"
    }
   ],
   "source": [
    "m.shape"
   ]
  },
  {
   "cell_type": "code",
   "execution_count": 17,
   "metadata": {},
   "outputs": [
    {
     "data": {
      "text/plain": [
       "(9, 24)"
      ]
     },
     "execution_count": 17,
     "metadata": {},
     "output_type": "execute_result"
    }
   ],
   "source": [
    "lm.shape"
   ]
  },
  {
   "cell_type": "code",
   "execution_count": 18,
   "metadata": {},
   "outputs": [
    {
     "data": {
      "text/plain": [
       "(9, 24)"
      ]
     },
     "execution_count": 18,
     "metadata": {},
     "output_type": "execute_result"
    }
   ],
   "source": [
    "Ice.shape"
   ]
  },
  {
   "cell_type": "markdown",
   "metadata": {},
   "source": [
    "### Make the figure"
   ]
  },
  {
   "cell_type": "code",
   "execution_count": 19,
   "metadata": {},
   "outputs": [
    {
     "name": "stdout",
     "output_type": "stream",
     "text": [
      "[  2.  11.  11.  20.  20.  29.  29.  37.  37.  49.  49.  58.  58.  81.\n",
      "  81.  94.  94. 117. 117. 135. 135. 146. 146. 166. 166. 179. 179. 203.\n",
      " 203. 224. 224. 248. 248. 269. 269. 285. 285. 296. 296. 323. 323. 338.\n",
      " 338. 359. 359. 380. 380. 402.]\n"
     ]
    },
    {
     "data": {
      "image/png": "[encoded data removed]",
      "text/plain": [
       "<Figure size 864x432 with 1 Axes>"
      ]
     },
     "metadata": {
      "needs_background": "light"
     },
     "output_type": "display_data"
    }
   ],
   "source": [
    "fig, axes = plt.subplots(figsize=(12, 6))\n",
    "\n",
    "Data1 = pd.read_excel('../Data/Fig12/Timescale.xlsx', delimiter=',')  \n",
    "TimeStep = np.zeros(len(Data1['From_age'])*2)\n",
    "\n",
    "TimeStep[::2] = Data1['To_age']\n",
    "TimeStep[1::2] = Data1['From_age']\n",
    "print (TimeStep)\n",
    "\n",
    "for i in np.arange(0,24,1):\n",
    "    \n",
    "    #latitude, specify the bin size\n",
    "    yedges = np.arange(0, 91, 5)\n",
    "    # time steps\n",
    "    time = [6,14,22,33,43,53,76,90,105,126,140,152,169,195,218,232,255,277,287,302,328,348,368,396]\n",
    "    # mountain color scheme\n",
    "    cmap = ['blue','deepskyblue','lightblue',(0.4,0.4,0.4),(0.5,0.5,0.5),(0.6,.6,.6),(0.7,0.7,0.7),(0.8,0.8,0.8),(0.9,0.9,0.9)]    \n",
    "        \n",
    "    y_all = np.zeros((9,len(np.float64(m[0])/196608*510)*2))\n",
    "    \n",
    "    for i in np.arange(0,9,1):\n",
    "        y = np.zeros(len(np.float64(m[i])/196608*510)*2)\n",
    "        y[::2] = np.float64(m[i])/196608*510\n",
    "        y[1::2] = np.float64(m[i])/196608*510\n",
    "        y_all[i] = y\n",
    "    \n",
    "    # x-axis: time intervals\n",
    "    axes.stackplot(TimeStep, y_all,colors=cmap,linewidth=0.1) #edgecolor='grey', , cmap='winter'\n",
    "    \n",
    "    axes.set_xlim((419,0))\n",
    "    axes.set_ylim(ymin=0)\n",
    "    axes.set_ylabel('Mountain area (10^6 km2)',size=14)\n",
    "    axes.set_xlabel('Time (Ma)',size=14)\n",
    "    \n",
    "    axes.xaxis.set_tick_params(labelsize=12,direction='out')\n",
    "    plt.setp(axes.get_xticklabels(), fontsize=12.) #,rotation=50\n",
    "\n",
    "    axes.yaxis.set_tick_params(labelsize=12,direction='out')\n",
    "    axes.xaxis.set_ticks_position('both')\n",
    "    axes.yaxis.set_ticks_position('left')\n",
    "    \n",
    "plt.savefig('Output/Fig_12e.pdf',dpi=600)\n",
    "plt.show()"
   ]
  },
  {
   "cell_type": "code",
   "execution_count": 20,
   "metadata": {},
   "outputs": [
    {
     "name": "stdout",
     "output_type": "stream",
     "text": [
      "[  2.  11.  11.  20.  20.  29.  29.  37.  37.  49.  49.  58.  58.  81.\n",
      "  81.  94.  94. 117. 117. 135. 135. 146. 146. 166. 166. 179. 179. 203.\n",
      " 203. 224. 224. 248. 248. 269. 269. 285. 285. 296. 296. 323. 323. 338.\n",
      " 338. 359. 359. 380. 380. 402.] [[4.91302490e+00 4.91302490e+00 4.84558105e+00 4.84558105e+00\n",
      "  2.80410767e+00 2.80410767e+00 2.30087280e+00 2.30087280e+00\n",
      "  3.23730469e+00 3.23730469e+00 3.40591431e+00 3.40591431e+00\n",
      "  3.36700439e+00 3.36700439e+00 1.27624512e+00 1.27624512e+00\n",
      "  6.01806641e-01 6.01806641e-01 7.15942383e-01 7.15942383e-01\n",
      "  4.95452881e-01 4.95452881e-01 9.51995850e-01 9.51995850e-01\n",
      "  3.91693115e-01 3.91693115e-01 5.18798828e-03 5.18798828e-03\n",
      "  1.11541748e+00 1.11541748e+00 1.17507935e+00 1.17507935e+00\n",
      "  3.89099121e+00 3.89099121e+00 4.62249756e+00 4.62249756e+00\n",
      "  6.03103638e+00 6.03103638e+00 6.28784180e+00 6.28784180e+00\n",
      "  1.16989136e+00 1.16989136e+00 1.61346436e+00 1.61346436e+00\n",
      "  9.72747803e-01 9.72747803e-01 4.53948975e-01 4.53948975e-01]\n",
      " [3.29437256e+00 3.29437256e+00 4.27490234e+00 4.27490234e+00\n",
      "  1.63940430e+00 1.63940430e+00 1.61865234e+00 1.61865234e+00\n",
      "  2.73925781e+00 2.73925781e+00 1.85729980e+00 1.85729980e+00\n",
      "  2.47726440e+00 2.47726440e+00 1.74835205e+00 1.74835205e+00\n",
      "  9.02709961e-01 9.02709961e-01 7.34100342e-01 7.34100342e-01\n",
      "  1.56677246e+00 1.56677246e+00 1.34109497e+00 1.34109497e+00\n",
      "  2.93121338e-01 2.93121338e-01 5.08422852e-01 5.08422852e-01\n",
      "  2.46429443e-01 2.46429443e-01 3.89099121e-02 3.89099121e-02\n",
      "  1.47857666e+00 1.47857666e+00 6.92596436e-01 6.92596436e-01\n",
      "  1.19323730e+00 1.19323730e+00 8.84552002e-01 8.84552002e-01\n",
      "  1.93771362e+00 1.93771362e+00 1.09207153e+00 1.09207153e+00\n",
      "  9.39025879e-01 9.39025879e-01 1.20880127e+00 1.20880127e+00]\n",
      " [4.15298462e+00 4.15298462e+00 6.87927246e+00 6.87927246e+00\n",
      "  2.85339355e+00 2.85339355e+00 3.51486206e+00 3.51486206e+00\n",
      "  4.15557861e+00 4.15557861e+00 4.95712280e+00 4.95712280e+00\n",
      "  3.14392090e+00 3.14392090e+00 3.19839478e+00 3.19839478e+00\n",
      "  2.12188721e+00 2.12188721e+00 2.56027222e+00 2.56027222e+00\n",
      "  3.17764282e+00 3.17764282e+00 1.82098389e+00 1.82098389e+00\n",
      "  9.57183838e-01 9.57183838e-01 2.07519531e-02 2.07519531e-02\n",
      "  8.30078125e-02 8.30078125e-02 7.78198242e-02 7.78198242e-02\n",
      "  1.04278564e+00 1.04278564e+00 4.53948975e-01 4.53948975e-01\n",
      "  1.53823853e+00 1.53823853e+00 1.04019165e+00 1.04019165e+00\n",
      "  4.40719604e+00 4.40719604e+00 1.54861450e+00 1.54861450e+00\n",
      "  7.62634277e-01 7.62634277e-01 9.80529785e-01 9.80529785e-01]\n",
      " [7.04788208e+00 7.04788208e+00 7.82867432e+00 7.82867432e+00\n",
      "  6.48498535e+00 6.48498535e+00 5.20874023e+00 5.20874023e+00\n",
      "  4.61990356e+00 4.61990356e+00 4.27490234e+00 4.27490234e+00\n",
      "  5.08163452e+00 5.08163452e+00 4.40719604e+00 4.40719604e+00\n",
      "  3.85726929e+00 3.85726929e+00 3.92471313e+00 3.92471313e+00\n",
      "  4.76776123e+00 4.76776123e+00 3.60046387e+00 3.60046387e+00\n",
      "  1.66793823e+00 1.66793823e+00 3.11279297e-02 3.11279297e-02\n",
      "  9.07897949e-02 9.07897949e-02 4.92858887e-02 4.92858887e-02\n",
      "  1.96365356e+00 1.96365356e+00 1.23733521e+00 1.23733521e+00\n",
      "  1.67053223e+00 1.67053223e+00 1.60308838e+00 1.60308838e+00\n",
      "  7.75604248e-01 7.75604248e-01 2.74963379e+00 2.74963379e+00\n",
      "  1.26846313e+00 1.26846313e+00 7.31506348e-01 7.31506348e-01]\n",
      " [2.97271729e+00 2.97271729e+00 2.84820557e+00 2.84820557e+00\n",
      "  2.89489746e+00 2.89489746e+00 3.22174072e+00 3.22174072e+00\n",
      "  2.94418335e+00 2.94418335e+00 3.17764282e+00 3.17764282e+00\n",
      "  3.31771851e+00 3.31771851e+00 2.62771606e+00 2.62771606e+00\n",
      "  2.67440796e+00 2.67440796e+00 2.26196289e+00 2.26196289e+00\n",
      "  2.93121338e+00 2.93121338e+00 4.65103149e+00 4.65103149e+00\n",
      "  3.34106445e+00 3.34106445e+00 5.57708740e-01 5.57708740e-01\n",
      "  3.57971191e-01 3.57971191e-01 2.46429443e-01 2.46429443e-01\n",
      "  3.58749390e+00 3.58749390e+00 1.02722168e+00 1.02722168e+00\n",
      "  2.64328003e+00 2.64328003e+00 7.67822266e-01 7.67822266e-01\n",
      "  3.52783203e-01 3.52783203e-01 9.54589844e-01 9.54589844e-01\n",
      "  1.03500366e+00 1.03500366e+00 1.20620728e+00 1.20620728e+00]\n",
      " [2.36312866e+00 2.36312866e+00 2.16339111e+00 2.16339111e+00\n",
      "  2.17636108e+00 2.17636108e+00 2.11929321e+00 2.11929321e+00\n",
      "  2.65884399e+00 2.65884399e+00 2.51617432e+00 2.51617432e+00\n",
      "  2.38388062e+00 2.38388062e+00 2.21008301e+00 2.21008301e+00\n",
      "  1.86248779e+00 1.86248779e+00 1.84692383e+00 1.84692383e+00\n",
      "  2.10113525e+00 2.10113525e+00 2.94677734e+00 2.94677734e+00\n",
      "  1.88842773e+00 1.88842773e+00 1.82357788e+00 1.82357788e+00\n",
      "  7.60040283e-01 7.60040283e-01 1.98959351e+00 1.98959351e+00\n",
      "  3.19320679e+00 3.19320679e+00 9.70153809e-01 9.70153809e-01\n",
      "  2.85858154e+00 2.85858154e+00 1.69647217e+00 1.69647217e+00\n",
      "  1.64459229e+00 1.64459229e+00 3.99475098e-01 3.99475098e-01\n",
      "  1.08428955e+00 1.08428955e+00 8.37860107e-01 8.37860107e-01]\n",
      " [3.94287109e+00 3.94287109e+00 3.31771851e+00 3.31771851e+00\n",
      "  2.46429443e+00 2.46429443e+00 2.73925781e+00 2.73925781e+00\n",
      "  2.55508423e+00 2.55508423e+00 2.29568481e+00 2.29568481e+00\n",
      "  2.21527100e+00 2.21527100e+00 2.09075928e+00 2.09075928e+00\n",
      "  1.74316406e+00 1.74316406e+00 1.58493042e+00 1.58493042e+00\n",
      "  1.21398926e+00 1.21398926e+00 1.68869019e+00 1.68869019e+00\n",
      "  1.80541992e+00 1.80541992e+00 2.52655029e+00 2.52655029e+00\n",
      "  1.34368896e+00 1.34368896e+00 9.36431885e-01 9.36431885e-01\n",
      "  1.58493042e+00 1.58493042e+00 9.96093750e-01 9.96093750e-01\n",
      "  5.13610840e-01 5.13610840e-01 8.58612061e-01 8.58612061e-01\n",
      "  4.69512939e-01 4.69512939e-01 1.43188477e+00 1.43188477e+00\n",
      "  3.42407227e-01 3.42407227e-01 1.11282349e+00 1.11282349e+00]\n",
      " [1.58493042e+00 1.58493042e+00 1.89880371e+00 1.89880371e+00\n",
      "  2.43576050e+00 2.43576050e+00 3.60046387e+00 3.60046387e+00\n",
      "  2.50579834e+00 2.50579834e+00 3.49670410e+00 3.49670410e+00\n",
      "  5.22949219e+00 5.22949219e+00 4.04922485e+00 4.04922485e+00\n",
      "  4.27490234e+00 4.27490234e+00 2.99606323e+00 2.99606323e+00\n",
      "  8.14514160e-01 8.14514160e-01 5.23986816e-01 5.23986816e-01\n",
      "  7.98950195e-01 7.98950195e-01 1.07910156e+00 1.07910156e+00\n",
      "  5.83648682e-01 5.83648682e-01 6.48498535e-01 6.48498535e-01\n",
      "  1.33590698e+00 1.33590698e+00 4.25415039e-01 4.25415039e-01\n",
      "  4.92858887e-02 4.92858887e-02 3.11279297e-02 3.11279297e-02\n",
      "  0.00000000e+00 0.00000000e+00 0.00000000e+00 0.00000000e+00\n",
      "  0.00000000e+00 0.00000000e+00 5.18798828e-03 5.18798828e-03]\n",
      " [1.71203613e-01 1.71203613e-01 1.01425171e+00 1.01425171e+00\n",
      "  4.66918945e-02 4.66918945e-02 7.54852295e-01 7.54852295e-01\n",
      "  1.78985596e-01 1.78985596e-01 4.61730957e-01 4.61730957e-01\n",
      "  1.29699707e+00 1.29699707e+00 1.21917725e+00 1.21917725e+00\n",
      "  1.63421631e+00 1.63421631e+00 1.69647217e+00 1.69647217e+00\n",
      "  1.68609619e-01 1.68609619e-01 2.10113525e-01 2.10113525e-01\n",
      "  1.86767578e-01 1.86767578e-01 1.97143555e-01 1.97143555e-01\n",
      "  3.94287109e-01 3.94287109e-01 3.32031250e-01 3.32031250e-01\n",
      "  2.87933350e-01 2.87933350e-01 1.11541748e-01 1.11541748e-01\n",
      "  0.00000000e+00 0.00000000e+00 0.00000000e+00 0.00000000e+00\n",
      "  0.00000000e+00 0.00000000e+00 0.00000000e+00 0.00000000e+00\n",
      "  0.00000000e+00 0.00000000e+00 0.00000000e+00 0.00000000e+00]]\n"
     ]
    },
    {
     "data": {
      "text/plain": [
       "(48, 9)"
      ]
     },
     "execution_count": 20,
     "metadata": {},
     "output_type": "execute_result"
    }
   ],
   "source": [
    "print(TimeStep, y_all)\n",
    "len(TimeStep), len (y_all)"
   ]
  },
  {
   "cell_type": "code",
   "execution_count": 21,
   "metadata": {},
   "outputs": [
    {
     "data": {
      "text/plain": [
       "(48,)"
      ]
     },
     "execution_count": 21,
     "metadata": {},
     "output_type": "execute_result"
    }
   ],
   "source": [
    "TimeStep.shape"
   ]
  },
  {
   "cell_type": "code",
   "execution_count": 22,
   "metadata": {},
   "outputs": [
    {
     "data": {
      "text/plain": [
       "(9, 48)"
      ]
     },
     "execution_count": 22,
     "metadata": {},
     "output_type": "execute_result"
    }
   ],
   "source": [
    "y_all.shape"
   ]
  },
  {
   "cell_type": "markdown",
   "metadata": {},
   "source": [
    "## Figure 12f"
   ]
  },
  {
   "cell_type": "markdown",
   "metadata": {},
   "source": [
    "### Make the figure"
   ]
  },
  {
   "cell_type": "code",
   "execution_count": 23,
   "metadata": {},
   "outputs": [
    {
     "data": {
      "image/png": "[encoded data removed]",
      "text/plain": [
       "<Figure size 864x432 with 1 Axes>"
      ]
     },
     "metadata": {
      "needs_background": "light"
     },
     "output_type": "display_data"
    }
   ],
   "source": [
    "fig, axes = plt.subplots(figsize=(12, 6))\n",
    "\n",
    "for i in np.arange(0,24,1):\n",
    "    \n",
    "    #latitude, specify the bin size\n",
    "    yedges = np.arange(0, 91, 5) \n",
    "    # time steps\n",
    "    time = [6,14,22,33,43,53,76,90,105,126,140,152,169,195,218,232,255,277,287,302,328,348,368,396]\n",
    "    # shallow marine color scheme\n",
    "    cmap = ['blue','deepskyblue','lightblue',(0.4,0.4,0.4),(0.5,0.5,0.5),(0.6,.6,.6),(0.7,0.7,0.7),(0.8,0.8,0.8),(0.9,0.9,0.9)]    \n",
    "\n",
    "    y_all = np.zeros((9,len(np.float64(sm[0])/196608*510)*2))\n",
    "    \n",
    "    for i in np.arange(0,9,1):\n",
    "        y = np.zeros(len(np.float64(sm[i])/196608*510)*2)\n",
    "        y[::2] = np.float64(sm[i])/196608*510\n",
    "        y[1::2] = np.float64(sm[i])/196608*510\n",
    "        y_all[i] = y\n",
    "    \n",
    "    axes.stackplot(TimeStep, y_all,colors=cmap,linewidth=0.1) #edgecolor='grey', , cmap='winter'\n",
    "\n",
    "    axes.set_xlim((419,0))\n",
    "    axes.set_ylim(ymin=0)\n",
    "    axes.set_ylabel('Emerged land area (10^6 km2)',size=14)\n",
    "    axes.set_xlabel('Time (Ma)',size=14)\n",
    "    \n",
    "    axes.xaxis.set_tick_params(labelsize=12,direction='out')\n",
    "    plt.setp(axes.get_xticklabels(), fontsize=12.) #,rotation=50\n",
    "\n",
    "    axes.yaxis.set_tick_params(labelsize=12,direction='out')\n",
    "    axes.xaxis.set_ticks_position('both')\n",
    "    axes.yaxis.set_ticks_position('left')\n",
    "    \n",
    "plt.savefig('Output/Fig_12f.pdf',dpi=600)\n",
    "plt.show()\n"
   ]
  },
  {
   "cell_type": "markdown",
   "metadata": {},
   "source": [
    "## Figure 12g"
   ]
  },
  {
   "cell_type": "markdown",
   "metadata": {},
   "source": [
    "### Make the figure"
   ]
  },
  {
   "cell_type": "code",
   "execution_count": 24,
   "metadata": {},
   "outputs": [
    {
     "data": {
      "image/png": "[encoded data removed]",
      "text/plain": [
       "<Figure size 864x432 with 1 Axes>"
      ]
     },
     "metadata": {
      "needs_background": "light"
     },
     "output_type": "display_data"
    }
   ],
   "source": [
    "fig, axes = plt.subplots(figsize=(12, 6))\n",
    "\n",
    "for i in np.arange(0,24,1):\n",
    "    \n",
    "    yedges = np.arange(0, 91, 5) #latitude, specify the bin size\n",
    "    time = [6,14,22,33,43,53,76,90,105,126,140,152,169,195,218,232,255,277,287,302,328,348,368,396]\n",
    "    \n",
    "    # ice sheet\n",
    "    cmap = [(0.9,0.9,0.9),(0.8,0.8,0.8),(0.7,0.7,0.7),(0.6,.6,.6),(0.5,0.5,0.5),(0.4,0.4,0.4),'lightblue','deepskyblue','blue']\n",
    "    \n",
    "    y_all = np.zeros((9,len(np.float64(Ice[0])/196608*510)*2))\n",
    "    \n",
    "    for i in np.arange(0,9,1):\n",
    "        y = np.zeros(len(np.float64(Ice[i])/196608*510)*2)\n",
    "        y[::2] = np.float64(Ice[i])/196608*510\n",
    "        y[1::2] = np.float64(Ice[i])/196608*510\n",
    "        y_all[i] = y\n",
    "    \n",
    "    # x-axis: time intervals\n",
    "    axes.stackplot(TimeStep, y_all,colors=cmap,linewidth=0.1) #edgecolor='grey', , cmap='winter'\n",
    "    \n",
    "    axes.set_xlim((419,0))\n",
    "    axes.set_ylim(ymin=0)\n",
    "    axes.set_ylabel('Mountain area (10^6 km2)',size=14)\n",
    "    axes.set_xlabel('Time (Ma)',size=14)\n",
    "    \n",
    "    axes.xaxis.set_tick_params(labelsize=12,direction='out')\n",
    "    plt.setp(axes.get_xticklabels(), fontsize=12.) #,rotation=50\n",
    "\n",
    "    axes.yaxis.set_tick_params(labelsize=12,direction='out')\n",
    "    axes.xaxis.set_ticks_position('both')\n",
    "    axes.yaxis.set_ticks_position('left')\n",
    "    \n",
    "plt.savefig('Output/Fig_12g.pdf',dpi=600)\n",
    "plt.show()"
   ]
  },
  {
   "cell_type": "markdown",
   "metadata": {},
   "source": [
    "## Figure 12h"
   ]
  },
  {
   "cell_type": "markdown",
   "metadata": {},
   "source": [
    "### Make the figure"
   ]
  },
  {
   "cell_type": "code",
   "execution_count": 25,
   "metadata": {},
   "outputs": [
    {
     "name": "stdout",
     "output_type": "stream",
     "text": [
      "[419.  393.  393.  388.  388.  383.  383.  359.  359.  331.  331.  323.\n",
      " 323.  307.  307.  299.  299.  290.  290.  252.  252.  247.  247.  237.\n",
      " 237.  201.  201.  164.  164.  145.  145.  113.  113.   89.8  89.8  66.\n",
      "  66.   56.   56.   47.8  47.8  33.9  33.9  23.   23.    5.3   5.3   0. ]\n"
     ]
    },
    {
     "data": {
      "image/png": "[encoded data removed]",
      "text/plain": [
       "<Figure size 864x432 with 1 Axes>"
      ]
     },
     "metadata": {
      "needs_background": "light"
     },
     "output_type": "display_data"
    }
   ],
   "source": [
    "fig, axes = plt.subplots(nrows=1, ncols=1,figsize=(12, 6))\n",
    "\n",
    "# input data\n",
    "data = pd.read_csv('../Data/Fig12/Boucot_etal_2013_Book_ClimateGradients.csv')\n",
    "\n",
    "grad = np.zeros(len(data['Dataset y'][7::1])*2)\n",
    "grad[::2] = data['Dataset y'][7::1]\n",
    "grad[1::2] = data['Dataset y'][7::1]\n",
    "\n",
    "# time \n",
    "data_peaks = pd.read_excel('../Data/Fig12/PeakLatitude_EachMap.xlsx')\n",
    "time = np.zeros(len(data_peaks['FromAge'])*2)\n",
    "time[::2] = data_peaks['FromAge']\n",
    "time[1::2] = data_peaks['ToAge']\n",
    "print (time)\n",
    "\n",
    "axes.plot(time,grad,linewidth=2,color='black')\n",
    "#plt.xticks(np.hstack((data_time['FromAge'],data_time['ToAge'])),rotation=90,size=8) #, rotation=50,,verticalalignment='top'\n",
    "\n",
    "axes.set_ylim((0,5.5))\n",
    "axes.set_xlim((419,0))\n",
    "axes.set_ylabel('Latitude', fontsize=14) \n",
    "axes.set_xlabel('Time (Ma)', fontsize=14) \n",
    "axes.set_xlim((419,0))\n",
    "axes.set_ylim(ymin=0)\n",
    "axes.xaxis.set_tick_params(direction='out')\n",
    "axes.yaxis.set_tick_params(labelsize=12,direction='out')\n",
    "axes.xaxis.set_ticks_position('both')\n",
    "axes.yaxis.set_ticks_position('left')\n",
    "#axes.grid(True)\n",
    "\n",
    "plt.savefig('Output/Fig_12h.pdf')\n",
    "plt.show()\n"
   ]
  }
 ],
 "metadata": {
  "kernelspec": {
   "display_name": "Python 3",
   "language": "python",
   "name": "python3"
  },
  "language_info": {
   "codemirror_mode": {
    "name": "ipython",
    "version": 3
   },
   "file_extension": ".py",
   "mimetype": "text/x-python",
   "name": "python",
   "nbconvert_exporter": "python",
   "pygments_lexer": "ipython3",
   "version": "3.7.6"
  },
  "toc": {
   "nav_menu": {},
   "number_sections": true,
   "sideBar": true,
   "skip_h1_title": false,
   "title_cell": "Table of Contents",
   "title_sidebar": "Contents",
   "toc_cell": false,
   "toc_position": {},
   "toc_section_display": true,
   "toc_window_display": false
  }
 },
 "nbformat": 4,
 "nbformat_minor": 2
}
