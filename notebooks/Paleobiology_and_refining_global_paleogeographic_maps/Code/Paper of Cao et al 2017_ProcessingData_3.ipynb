{
 "cells": [
  {
   "cell_type": "markdown",
   "metadata": {},
   "source": [
    "# Materials associated with the paper: \n",
    "\n",
    "Cao, W., Zahirovic, S., Flament, N., Williams, S., Golonka, J., and Müller, R. D., 2017: Improving global paleogeography since the late Paleozoic using paleobiology, Biogeosciences, 14, 5425-5439. https://doi.org/10.5194/bg-14-5425-2017.\n",
    "\n",
    "### This Jupyter notebook is used to test the paleogeographic maps using paleobiology data.\n",
    "\n",
    "The code in this notebook is written in Python 2.7. It utilizes standard scientific Python modules and the open source module 'pygplates' which provides a Python API to the open source GPlates software (https://www.gplates.org/). Here, the source code has been modified to Python 3.7 by Behnam Sadeghi."
   ]
  },
  {
   "cell_type": "markdown",
   "metadata": {},
   "source": [
    "## Import the Python modules"
   ]
  },
  {
   "cell_type": "code",
   "execution_count": 1,
   "metadata": {},
   "outputs": [],
   "source": [
    "import pygplates\n",
    "import os\n",
    "os.environ['PROJ_LIB'] = r'C:\\ProgramData\\Anaconda3\\pkgs\\proj4-5.1.0-hfa6e2cd_1\\Library\\share'\n",
    "import pandas as pd\n",
    "import numpy as np\n",
    "import matplotlib.pyplot as plt\n",
    "%matplotlib inline"
   ]
  },
  {
   "cell_type": "markdown",
   "metadata": {},
   "source": [
    "## Read the paleobiology data"
   ]
  },
  {
   "cell_type": "code",
   "execution_count": 2,
   "metadata": {},
   "outputs": [
    {
     "data": {
      "image/png": "[encoded data removed]",
      "text/plain": [
       "<Figure size 432x288 with 1 Axes>"
      ]
     },
     "metadata": {
      "needs_background": "light"
     },
     "output_type": "display_data"
    },
    {
     "name": "stdout",
     "output_type": "stream",
     "text": [
      "2212\n",
      "Index(['collection_no', 'collection.authorizer', 'license',\n",
      "       'collection.reference_no', 'latdec', 'lngdec', 'period', 'epoch',\n",
      "       'stage', 'ma_max', 'ma_min', 'lithology1', 'lithology2', 'environment',\n",
      "       'tectonic_setting', 'geology_comments'],\n",
      "      dtype='object')\n"
     ]
    }
   ],
   "source": [
    "pbdb = pd.read_csv('../Data/Fossil/2500Ma-collections.csv',encoding='latin1')\n",
    "\n",
    "recon_time = 76\n",
    "FigNum = 52\n",
    "age_max = 81\n",
    "age_min = 58\n",
    "Rotation_time = recon_time\n",
    "\n",
    "#extract subsets\n",
    "pbdb_subset = pbdb[(pbdb.ma_max<=age_max) & (pbdb.ma_min>=age_min)] \n",
    "\n",
    "plt.scatter(pbdb_subset.lngdec,pbdb_subset.latdec,c=pbdb_subset.ma_max,edgecolors='')\n",
    "plt.show()\n",
    "\n",
    "print (len(pbdb_subset))\n",
    "print (pbdb.columns)"
   ]
  },
  {
   "cell_type": "markdown",
   "metadata": {},
   "source": [
    "## Read the paleogeographic maps and tectonic models"
   ]
  },
  {
   "cell_type": "code",
   "execution_count": 3,
   "metadata": {},
   "outputs": [
    {
     "name": "stdout",
     "output_type": "stream",
     "text": [
      "../Data/76/7_Reconstructed_Paleogeog_EBIDs_76Ma_GapsFixed/sm_fig52_81_58_reconstructed_76.00Ma.shp\n",
      "../Data/76/7_Reconstructed_Paleogeog_EBIDs_76Ma_GapsFixed/lm_fig52_81_58_reconstructed_76.00Ma.shp\n",
      "../Data/76/7_Reconstructed_Paleogeog_EBIDs_76Ma_GapsFixed/m_fig52_81_58_reconstructed_76.00Ma.shp\n",
      "../Data/76/7_Reconstructed_Paleogeog_EBIDs_76Ma_GapsFixed/i_fig52_81_58_reconstructed_76.00Ma.shp\n",
      "['../Data/EB_2015_v1/Global_EB_250-0Ma_GK07_2015_v1.rot', '../Data/EB_2015_v1/Global_EB_410-250Ma_GK07_2015_v1.rot']\n"
     ]
    }
   ],
   "source": [
    "\n",
    "base_directory = '../Data/'+str(recon_time)+'/7_Reconstructed_Paleogeog_EBIDs_'+str(recon_time)+'Ma_GapsFixed'\n",
    "ShallowMarine_Filename = '%s/sm_fig%d_%d_%d_reconstructed_%0.2fMa.shp' % (base_directory,FigNum,age_max,age_min,recon_time)\n",
    "Landmass_Filename = '%s/lm_fig%d_%d_%d_reconstructed_%0.2fMa.shp' % (base_directory,FigNum,age_max,age_min,recon_time)\n",
    "Mountain_Filename = '%s/m_fig%d_%d_%d_reconstructed_%0.2fMa.shp' % (base_directory,FigNum,age_max,age_min,recon_time)\n",
    "Icesheet_Filename = '%s/i_fig%d_%d_%d_reconstructed_%0.2fMa.shp' % (base_directory,FigNum,age_max,age_min,recon_time)\n",
    "\n",
    "print (ShallowMarine_Filename)\n",
    "print (Landmass_Filename)\n",
    "print (Mountain_Filename)\n",
    "print (Icesheet_Filename)\n",
    "\n",
    "#Golonka's rotation:\n",
    "#'/Users/wenchaocao/Research/6_CookieCutting_Corrections/'+str(recon_time)+'/TopologyMethod_'+str(recon_time)+'Ma/Golonka_master94c1_Africa-Rel_Revised_'+str(recon_time)+'Ma.rot\n",
    "rotation_filename_for_fossils = ['../Data/EB_2015_v1/Global_EB_250-0Ma_GK07_2015_v1.rot',\n",
    "                                 '../Data/EB_2015_v1/Global_EB_410-250Ma_GK07_2015_v1.rot']\n",
    "print (rotation_filename_for_fossils)\n",
    "\n",
    "#EB static polygons:'/Users/wenchaocao/Research/6_CookieCutting_Corrections/Orignial_RotaContinCoast_410_0_EarthByte_Model_2015_v1v2/Global_EarthByte_GPlates_PresentDay_StaticPlatePolygons_2015_v1/Global_EarthByte_GPlates_PresentDay_StaticPlatePolygons_2015_v1.shp'\n",
    "static_polygons = '../Data/EB_2015_v1/Global_EarthByte_GPlates_PresentDay_StaticPlatePolygons_2015_v1/Global_EarthByte_GPlates_PresentDay_StaticPlatePolygons_2015_v1.shp'\n",
    "\n",
    "# In some cases, the paleogeographies need to be reconstructed (consistent with the fossils), in some cases not\n",
    "# hence, here we can specify a 'fake' rotiation file to avoid reconstructing the paleogeography\n",
    "# polygons for the point in polygon test if they are already reconstructed\n",
    "rotation_filename_for_paleogeog = '../Data/New_Rotation.rot'\n"
   ]
  },
  {
   "cell_type": "markdown",
   "metadata": {},
   "source": [
    "## Reconstruct the paleobiology data back in time"
   ]
  },
  {
   "cell_type": "code",
   "execution_count": 4,
   "metadata": {},
   "outputs": [
    {
     "name": "stdout",
     "output_type": "stream",
     "text": [
      "2212\n",
      "2212\n",
      "0\n"
     ]
    }
   ],
   "source": [
    "# Load the rotation file and static polygons for the reconstruction model we want to use\n",
    "# Then, create a gplates feature containing the fossils, and assign-plate ids to them\n",
    "# using this reconstruction model\n",
    "# Finally, reconstruct the points to the desired testing time\n",
    "\n",
    "rotation_model = pygplates.RotationModel(rotation_filename_for_fossils)\n",
    "\n",
    "point_features = []\n",
    "\n",
    "for index,row in pbdb_subset.iterrows():\n",
    "    point = pygplates.PointOnSphere(float(row.latdec),float(row.lngdec))\n",
    "    #print (row.LONG)\n",
    "    point_feature = pygplates.Feature()\n",
    "    point_feature.set_geometry(point)\n",
    "    point_feature.set_shapefile_attribute('Environ',str(row.environment))\n",
    "    point_feature.set_shapefile_attribute('lithology1',str(row.lithology1))\n",
    "    point_feature.set_shapefile_attribute('lithology2',str(row.lithology2))\n",
    "    point_feature.set_shapefile_attribute('coll_no',str(row.collection_no))\n",
    "    point_feature.set_shapefile_attribute('coll_auth',str(row['collection.authorizer']))\n",
    "    point_feature.set_shapefile_attribute('coll_refno',str(row['collection.reference_no']))\n",
    "    point_feature.set_shapefile_attribute('ma_max',row.ma_max)\n",
    "    point_feature.set_shapefile_attribute('ma_min',row.ma_min)\n",
    "    point_feature.set_shapefile_attribute('period',str(row.period))\n",
    "    point_feature.set_shapefile_attribute('epoch',str(row.epoch))\n",
    "    point_feature.set_shapefile_attribute('stage',str(row.stage))\n",
    "    point_feature.set_shapefile_attribute('GolEnv','Unknown')\n",
    "    point_feature.set_shapefile_attribute('pbdbEnv','Unknown')\n",
    "    point_feature.set_shapefile_attribute('Match',0)\n",
    "    point_feature.set_shapefile_attribute('FromAge',age_max) #added on 6/12/2016\n",
    "    point_feature.set_shapefile_attribute('ToAge',age_min) #added on 6/12/2016\n",
    "    point_feature.set_valid_time(age_max,age_min)\n",
    "    point_features.append(point_feature)\n",
    "\n",
    "print (len(point_features))\n",
    "\n",
    "# The partition points function can then be used as before\n",
    "partitioned_point_features = pygplates.partition_into_plates(static_polygons,\n",
    "                                                       rotation_model,\n",
    "                                                       point_features) \n",
    "\n",
    "# If partitioned feature has plate id = 0, we throw it away \n",
    "partitioned_point_features_not_zero = []\n",
    "partitioned_point_features_zero = []\n",
    "for point_feature in partitioned_point_features:\n",
    "    if point_feature.get_reconstruction_plate_id() != 0:\n",
    "        partitioned_point_features_not_zero.append(point_feature)\n",
    "    else:\n",
    "        partitioned_point_features_zero.append(point_feature)\n",
    "\n",
    "# Create a reconstructed version of the fossil features \n",
    "\n",
    "reconstructed_point_features = [] #'/Users/wenchaocao/Research/Test_DeleteSoon/reconstructed_point_features_33Ma.shp' #\n",
    "pygplates.reconstruct(partitioned_point_features_not_zero,\n",
    "                      rotation_model,\n",
    "                      reconstructed_point_features,\n",
    "                      Rotation_time)\n",
    "\n",
    "print (len(partitioned_point_features_not_zero))\n",
    "print (len(partitioned_point_features_zero))"
   ]
  },
  {
   "cell_type": "markdown",
   "metadata": {},
   "source": [
    "## Define the test function"
   ]
  },
  {
   "cell_type": "code",
   "execution_count": 5,
   "metadata": {},
   "outputs": [],
   "source": [
    "# This cell contains the mapping between paleo-environments descriptions in PBDB and our own system\n",
    "##### List and filename for Shallow Marine\n",
    "\n",
    "shallow_marine_list = ['marine indet.',\n",
    "            'carbonate indet.',\n",
    "            'peritidal',\n",
    "            'shallow subtidal indet.',\n",
    "            'open shallow subtidal',\n",
    "            'lagoonal/restricted shallow subtidal',\n",
    "            'sand shoal',\n",
    "            'reef, buildup or bioherm',\n",
    "            'perireef or subreef',\n",
    "            'intrashelf/intraplatform reef',\n",
    "            'platform/shelf-margin reef',\n",
    "            'slope/ramp reef',\n",
    "            'basin reef',\n",
    "            'deep subtidal ramp',\n",
    "            'deep subtidal shelf',\n",
    "            'deep subtidal indet.',\n",
    "            'offshore ramp',\n",
    "            'offshore shelf',\n",
    "            'offshore indet.',\n",
    "            'slope',\n",
    "            'basinal (carbonate)',\n",
    "            'basinal (siliceous)',\n",
    "            'marginal_marine_indet.',\n",
    "            'coastal indet.',\n",
    "            'estuary/bay',\n",
    "            'lagoonal',\n",
    "            'paralic indet.',\n",
    "            #'delta plain', deleted on 8 Jun 2017\n",
    "            'interdistributary bay',\n",
    "            'delta front',\n",
    "            'prodelta',\n",
    "            'deltaic indet.',\n",
    "            'foreshore',\n",
    "            'shoreface',\n",
    "            'transition zone/lower shoreface',\n",
    "            'offshore',\n",
    "            'submarine fan',\n",
    "            'basinal (siliciclastic)',\n",
    "            'deep-water indet.']\n",
    "\n",
    "##### List and filename for features: landmass, mountain and icesheet\n",
    "\n",
    "terrestrial_list = ['terrestrial indet.',\n",
    "            'fluvial indet.',\n",
    "            'alluvial fan',\n",
    "            'channel lag',\n",
    "            'coarse channel fill',\n",
    "            'fine channel fill',\n",
    "            '\"channel\"',\n",
    "            'wet floodplain',\n",
    "            'dry floodplain',\n",
    "            '\"floodplain\"',\n",
    "            'crevasse splay',\n",
    "            'levee',\n",
    "            'mire/swamp',\n",
    "            'fluvial-lacustrine_indet.',\n",
    "            'delta plain',\n",
    "            'fluvial-deltaic_indet.',\n",
    "            'lacustrine - large',\n",
    "            'lacustrine - small',\n",
    "            'pond',\n",
    "            'crater lake',\n",
    "            'lacustrine_delta_plain',\n",
    "            'lacustrine_interdistributary_bay',\n",
    "            'lacustrine_delta_front',\n",
    "            'lacustrine_pro-delta',\n",
    "            'lacustrine_deltaic_indet.',\n",
    "            'lacustrine indet.',\n",
    "            'dune',\n",
    "            'interdune',\n",
    "            'loess',\n",
    "            'eolian indet.',\n",
    "            'cave',\n",
    "            'fissure fill',\n",
    "            'sinkhole',\n",
    "            'karst indet.',\n",
    "            'tar',\n",
    "            'spring',\n",
    "            'glacial']\n",
    "\n",
    "mountain_list = terrestrial_list\n",
    "icesheet_list = terrestrial_list\n",
    "\n",
    "##### End"
   ]
  },
  {
   "cell_type": "code",
   "execution_count": 6,
   "metadata": {},
   "outputs": [],
   "source": [
    "# define a function that will do the consistency check\n",
    "# The input can be any paleogeography polygon filename, assuming that all polygons in that feature\n",
    "# are the same paleoenvironment (e.g. all shallow marine).\n",
    "# The test finds whether each paleobiology point is within the polygons or not\n",
    "# The 'success' for each point also depends on the lookup table and the 'env_num'\n",
    "# [ie, is the pbdb environment for that point consistent with the polygon environment]\n",
    "def DoPaleogeographyTest(reconstructed_point_features,Paleogeography_Filename,rotation_model,recon_time,environment_list,environment_label,env_num):\n",
    "\n",
    "    PaleoGeog_Features = pygplates.FeatureCollection(Paleogeography_Filename)\n",
    "    #pygplates.PlatePartitioner(): Partition features or geometries into plates.\n",
    "    plate_partitioner = pygplates.PlatePartitioner(PaleoGeog_Features, rotation_model, reconstruction_time=recon_time) \n",
    "\n",
    "    tested_features = []\n",
    "    untested_features = []\n",
    "\n",
    "    for reconstructed_point in reconstructed_point_features:\n",
    "        #plate_partitioner.partition_point(): if point is contained by any partitioning plates\n",
    "        #reconstructed_point.get_reconstructed_geometry() means fossil points\n",
    "        result = plate_partitioner.partition_point(reconstructed_point.get_reconstructed_geometry())\n",
    "        if result is not None:\n",
    "\n",
    "            # Get the environment for the point\n",
    "            feature_environment = reconstructed_point.get_feature().get_shapefile_attribute('Environ')\n",
    "\n",
    "            # See if the environment of the point matches the environment of the polygons \n",
    "            env_comparison = any(feature_environment in env for env in environment_list)\n",
    "            reconstructed_point.get_feature().set_shapefile_attribute('GolEnv',environment_label)\n",
    "            # Set the test indicator to have a value where the sign reflects the success of the test, \n",
    "            # while the absolute value depends on the environment\n",
    "            if env_comparison is True:\n",
    "                reconstructed_point.get_feature().set_shapefile_attribute('Match',env_num)\n",
    "            else:\n",
    "                reconstructed_point.get_feature().set_shapefile_attribute('Match',env_num*-1)\n",
    "            reconstructed_point.get_feature().set_shapefile_attribute('PlateID',reconstructed_point.get_feature().get_reconstruction_plate_id())\n",
    "            tested_features.append(reconstructed_point.get_feature())\n",
    "            \n",
    "        else:\n",
    "            untested_features.append(reconstructed_point)\n",
    "        \n",
    "    # return reconstructed, tested features (with test results and plate ids assigned)\n",
    "    return (tested_features,untested_features)\n",
    " "
   ]
  },
  {
   "cell_type": "markdown",
   "metadata": {},
   "source": [
    "## Conduct the tests"
   ]
  },
  {
   "cell_type": "code",
   "execution_count": 7,
   "metadata": {},
   "outputs": [
    {
     "name": "stdout",
     "output_type": "stream",
     "text": [
      "323 1889\n",
      "909 980\n",
      "868 112\n",
      "112\n"
     ]
    }
   ],
   "source": [
    "# call the function for as many times as we have different paleoenvironment features \n",
    "\n",
    "remaining_features = reconstructed_point_features\n",
    "\n",
    "#i_features,remaining_features = DoPaleogeographyTest(remaining_features,\n",
    "#                                  Icesheet_Filename,\n",
    "#                                  rotation_filename_for_paleogeog,\n",
    "#                                  Rotation_time,\n",
    "#                                  icesheet_list,\n",
    "#                                  'Icesheet',4)\n",
    "#print (len(i_features),len(remaining_features))\n",
    "\n",
    "m_features,remaining_features = DoPaleogeographyTest(remaining_features,\n",
    "                                  Mountain_Filename,\n",
    "                                  rotation_filename_for_paleogeog,\n",
    "                                  Rotation_time,\n",
    "                                  mountain_list,\n",
    "                                  'Mountain',3)\n",
    "print (len(m_features),len(remaining_features))\n",
    "\n",
    "lm_features,remaining_features = DoPaleogeographyTest(remaining_features,\n",
    "                                   Landmass_Filename,\n",
    "                                   rotation_filename_for_paleogeog,\n",
    "                                   Rotation_time,\n",
    "                                   terrestrial_list,\n",
    "                                   'Landmass',2)\n",
    "print (len(lm_features),len(remaining_features))\n",
    "\n",
    "sm_features,remaining_features = DoPaleogeographyTest(remaining_features,\n",
    "                                   ShallowMarine_Filename,\n",
    "                                   rotation_filename_for_paleogeog,\n",
    "                                   Rotation_time,\n",
    "                                   shallow_marine_list,\n",
    "                                   'ShallowMarine',1)\n",
    "print (len(sm_features),len(remaining_features))\n",
    "\n",
    "# Catch all the features that are not in any polygon\n",
    "unknown_features = []\n",
    "for reconstructed_point in reconstructed_point_features:\n",
    "    if reconstructed_point.get_feature().get_shapefile_attribute('GolEnv')=='Unknown':\n",
    "        reconstructed_point.get_feature().set_shapefile_attribute('PlateID',reconstructed_point.get_feature().get_reconstruction_plate_id())\n",
    "        unknown_features.append(reconstructed_point.get_feature())\n",
    "print (len(unknown_features))\n",
    "\n",
    "#print ('Sum of tested fossils:')\n",
    "#print ()\n",
    "#print (len(pbdb_subset))"
   ]
  },
  {
   "cell_type": "markdown",
   "metadata": {},
   "source": [
    "## Process the test results"
   ]
  },
  {
   "cell_type": "code",
   "execution_count": 8,
   "metadata": {},
   "outputs": [
    {
     "name": "stdout",
     "output_type": "stream",
     "text": [
      "2212\n"
     ]
    }
   ],
   "source": [
    "# Before saving to a single file, put together all the features into one collection\n",
    "all_features = []\n",
    "for feature in sm_features:\n",
    "    all_features.append(feature)\n",
    "for feature in lm_features:\n",
    "    all_features.append(feature)\n",
    "for feature in m_features:\n",
    "    all_features.append(feature)\n",
    "#for feature in i_features:\n",
    "#    all_features.append(feature)\n",
    "for feature in unknown_features:\n",
    "    all_features.append(feature)\n",
    "\n",
    "print (len(all_features))\n",
    "\n",
    "# Also before saving to file, assign the pbdb 'coarse' environment (based on the lookup table)\n",
    "# to each point, so that in GIS we can distinguish simply between 'Terrestrial' and'Marine' fossils\n",
    "for feature in all_features:\n",
    "    # Get the environment for the point\n",
    "    feature_environment = feature.get_shapefile_attribute('Environ')\n",
    "\n",
    "    # See if the environment of the point matches the environment of the polygons \n",
    "    env_comparison = any(feature_environment in env for env in shallow_marine_list)\n",
    "    if env_comparison is True:\n",
    "        feature.set_shapefile_attribute('pbdbEnv','ShallowMarine')\n",
    "    # See if the environment of the point matches the environment of the polygons \n",
    "    env_comparison = any(feature_environment in env for env in terrestrial_list)\n",
    "    if env_comparison is True:\n",
    "        feature.set_shapefile_attribute('pbdbEnv','Terrestrial')\n",
    "\n",
    "#Save fossil data as shapefile-format at present-day coordinates\n",
    "rotation_model_PresentDay = pygplates.RotationModel(rotation_filename_for_paleogeog)\n",
    "#EB2015v1 model, present-day paleogeog:\n",
    "OutputShapefileName_PresentDay = 'Output/ProcessingData_3/PresentDayFossils_TestingReconPaleogeog_EB2015v1_AfterGapsFixed_'+str(recon_time)+'Ma.shp'\n",
    "\n",
    "pygplates.reconstruct(all_features,\n",
    "                      rotation_model_PresentDay,\n",
    "                      OutputShapefileName_PresentDay,\n",
    "                      Rotation_time)\n",
    "\n",
    "#Save to file, all features lumped together and reconstructed using the rotation model\n",
    "#Previous tests do not output reconstructed fossils\n",
    "#EB2015v1 model, reconstructed paleogeog:\n",
    "OutputShapefileName = 'Output/ProcessingData_3/ReconFossils_TestingReconPaleogeog_EB2015v1_AfterGapsFixed_'+str(recon_time)+'Ma.shp'\n",
    "\n",
    "pygplates.reconstruct(all_features,\n",
    "                      rotation_model,\n",
    "                      OutputShapefileName,\n",
    "                      Rotation_time)\n",
    "\n",
    "#print len(all_features)"
   ]
  },
  {
   "cell_type": "markdown",
   "metadata": {},
   "source": [
    "## Calculate the test results"
   ]
  },
  {
   "cell_type": "code",
   "execution_count": 9,
   "metadata": {},
   "outputs": [
    {
     "name": "stdout",
     "output_type": "stream",
     "text": [
      "Time interval = 76\n",
      "\n",
      "PBDB Marine Fossils:\n",
      "Consistent = 823\n",
      "Inconsistent = 656\n",
      "\n",
      "PBDB Terrestrial Fossils:\n",
      "Consistent = 576\n",
      "Inconsistent = 45\n",
      "\n",
      "InvalidFossils = 112\n",
      "\n",
      "Number of tested fossils:\n",
      "2212\n",
      "\n",
      "Sum of Fossils extracted from PBDB:\n",
      "2212\n"
     ]
    }
   ],
   "source": [
    "#### Get a score of success or failure based on the pbdb fossil type (terrestrial or marine)\n",
    "print ('Time interval = %d' % recon_time)\n",
    "print ('')\n",
    "\n",
    "ShallowMarineTrue = 0\n",
    "ShallowMarineFalse = 0\n",
    "InvalidFossils = 0\n",
    "for feature in all_features:\n",
    "    #print feature.get_shapefile_attribute('pbdbEnv')\n",
    "    if feature.get_shapefile_attribute('pbdbEnv')=='ShallowMarine':\n",
    "        if feature.get_shapefile_attribute('Match')>0:\n",
    "            ShallowMarineTrue+=1\n",
    "        elif feature.get_shapefile_attribute('Match')<0:\n",
    "            ShallowMarineFalse+=1\n",
    "        else:\n",
    "            InvalidFossils+=1\n",
    "            \n",
    "print ('PBDB Marine Fossils:')\n",
    "print ('Consistent = %d' % ShallowMarineTrue)\n",
    "print ('Inconsistent = %d' % ShallowMarineFalse)  \n",
    "print ('')\n",
    "\n",
    "TerrestrialTrue = 0\n",
    "TerrestrialFalse = 0\n",
    "for feature in all_features:\n",
    "    if feature.get_shapefile_attribute('pbdbEnv')=='Terrestrial':\n",
    "        if feature.get_shapefile_attribute('Match')>0:\n",
    "            TerrestrialTrue+=1\n",
    "        elif feature.get_shapefile_attribute('Match')<0:\n",
    "            TerrestrialFalse+=1\n",
    "        else:\n",
    "            InvalidFossils+=1\n",
    "            \n",
    "print ('PBDB Terrestrial Fossils:')\n",
    "print ('Consistent = %d' % TerrestrialTrue)\n",
    "print ('Inconsistent = %d' % TerrestrialFalse)  \n",
    "print ('')\n",
    "\n",
    "print ('InvalidFossils = %d'% InvalidFossils)\n",
    "print ('')\n",
    "\n",
    "print ('Number of tested fossils:')\n",
    "print (ShallowMarineTrue + ShallowMarineFalse + TerrestrialTrue + TerrestrialFalse + InvalidFossils + len(partitioned_point_features_zero))\n",
    "print ('')\n",
    "print ('Sum of Fossils extracted from PBDB:')\n",
    "print (len(pbdb_subset))\n"
   ]
  }
 ],
 "metadata": {
  "kernelspec": {
   "display_name": "Python 3",
   "language": "python",
   "name": "python3"
  },
  "language_info": {
   "codemirror_mode": {
    "name": "ipython",
    "version": 3
   },
   "file_extension": ".py",
   "mimetype": "text/x-python",
   "name": "python",
   "nbconvert_exporter": "python",
   "pygments_lexer": "ipython3",
   "version": "3.7.6"
  },
  "toc": {
   "nav_menu": {},
   "number_sections": true,
   "sideBar": true,
   "skip_h1_title": false,
   "title_cell": "Table of Contents",
   "title_sidebar": "Contents",
   "toc_cell": false,
   "toc_position": {},
   "toc_section_display": true,
   "toc_window_display": false
  }
 },
 "nbformat": 4,
 "nbformat_minor": 2
}
