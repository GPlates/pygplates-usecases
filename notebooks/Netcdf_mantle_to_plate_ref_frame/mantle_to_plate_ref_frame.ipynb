{
 "cells": [
  {
   "cell_type": "markdown",
   "metadata": {},
   "source": [
    "#### change the variables in the following code cell to generate your own plate ref frame grids\n",
    "- __raster_and_time__\n",
    "    * A list of mantle frame grids and their reconstruction times. The grids will be converted to plate reference frame acoording to the reconstruction time.\n",
    "    \n",
    "- __out_dir__\n",
    "    * Where you want to save the converted plate reference frame grids.\n",
    "    \n",
    "- __multipoint_feature_collection_name__\n",
    "    * The file name which contains global mesh points. If you are using other rotatoin model, you need to reassign plate ids to the multipoint. Open lat_lon_velocity_domain_720_1440.shp with GPlates and go to \"Features->Assign Plate IDs...\".\n",
    "    \n",
    "- __rotation_filenames__\n",
    "    * The rotation file name(s)\n"
   ]
  },
  {
   "cell_type": "code",
   "execution_count": null,
   "metadata": {},
   "outputs": [],
   "source": [
    "import glob\n",
    "\n",
    "raster_and_time=[\n",
    "    ('./rasters/M7/MantleFrame/M7.0.Ma.nc', 0),\n",
    "    ('./rasters/M7/MantleFrame/M7.69.Ma.nc', 69),\n",
    "    ('./rasters/M7/MantleFrame/M7.140.Ma.nc', 140)\n",
    "]\n",
    "\n",
    "out_dir = './rasters/M7/PlateFrame/'\n",
    "multipoint_feature_collection_name = \\\n",
    "'./reconstructions/Global_Model_WD_Internal_Release_2015_v2/domain_points/lat_lon_velocity_domain_720_1440.shp'\n",
    "rotation_filenames = glob.glob('./reconstructions/Global_Model_WD_Internal_Release_2015_v2/*.rot')\n"
   ]
  },
  {
   "cell_type": "markdown",
   "metadata": {},
   "source": [
    "### The code cell below convert the grids from mantle reference frame to plate reference frame."
   ]
  },
  {
   "cell_type": "code",
   "execution_count": null,
   "metadata": {
    "scrolled": true
   },
   "outputs": [],
   "source": [
    "import pygplates\n",
    "import sys, os\n",
    "import PlateFrameRasters\n",
    "\n",
    "if not os.path.isdir(out_dir):\n",
    "    os.system('mkdir --parents ' + out_dir)\n",
    "  \n",
    "time_list = [x[1] for x in raster_and_time]\n",
    "raster_filenames = [x[0] for x in raster_and_time]\n",
    "\n",
    "#load the mesh points\n",
    "file_registry = pygplates.FeatureCollectionFileFormatRegistry()\n",
    "multipoint_feature_collection = file_registry.read(multipoint_feature_collection_name)\n",
    "#get rid of points with plate id 0(invalid)\n",
    "selected_features = multipoint_feature_collection.get(\n",
    "    lambda feature: feature.get_reconstruction_plate_id()!=0,\n",
    "    pygplates.FeatureReturn.all)\n",
    "multipoint_feature_collection = pygplates.FeatureCollection(selected_features)\n",
    "\n",
    "rotation_model = pygplates.RotationModel(rotation_filenames)\n",
    "\n",
    "# To Get Plate Frame Grids \n",
    "PlateFrameRasters.GeneratePlateReferenceFramesXYZ(\n",
    "    rotation_model, \n",
    "    time_list, \n",
    "    raster_filenames, \n",
    "    multipoint_feature_collection,\n",
    "    out_dir)\n",
    "\n",
    "print('done')\n"
   ]
  },
  {
   "cell_type": "markdown",
   "metadata": {},
   "source": [
    "#### The code cell below is for test purpose only. It will draw a netcdf grid. \n",
    "Change the __InputGridFile__ variable to the file you want to see."
   ]
  },
  {
   "cell_type": "code",
   "execution_count": null,
   "metadata": {
    "scrolled": false
   },
   "outputs": [],
   "source": [
    "import numpy as np\n",
    "from netCDF4 import Dataset\n",
    "import cartopy.crs as ccrs\n",
    "import matplotlib.pyplot as plt\n",
    "%matplotlib inline\n",
    "\n",
    "#change this variable to the file you want to see.\n",
    "#InputGridFile = raster_filenames[0]\n",
    "InputGridFile = './rasters/M7/PlateFrame/PlateFrameGrid69.00.nc'\n",
    "\n",
    "def cmap_discretize(cmap, N):\n",
    "    #http://wiki.scipy.org/Cookbook/Matplotlib/ColormapTransformations\n",
    "    \"\"\"Return a discrete colormap from the continuous colormap cmap.     \n",
    "    cmap: colormap instance, eg. cm.jet. \n",
    "    N: number of colors.\n",
    "    \n",
    "    Example\n",
    "    x = resize(arange(100), (5,100))\n",
    "    djet = cmap_discretize(cm.jet, 5)\n",
    "    imshow(x, cmap=djet)\n",
    "    \"\"\"\n",
    "    import matplotlib\n",
    "    \n",
    "    if type(cmap) == str:\n",
    "        cmap = get_cmap(cmap)\n",
    "    colors_i = np.concatenate((np.linspace(0, 1., N), (0.,0.,0.,0.)))\n",
    "    colors_rgba = cmap(colors_i)\n",
    "    indices = np.linspace(0, 1., N+1)\n",
    "    cdict = {}\n",
    "    for ki,key in enumerate(('red','green','blue')):\n",
    "        cdict[key] = [ (indices[i], colors_rgba[i-1,ki], colors_rgba[i,ki]) for i in range(N+1) ]\n",
    "    \n",
    "    # Return colormap object.\n",
    "    return matplotlib.colors.LinearSegmentedColormap(cmap.name + \"_%d\"%N, cdict, 1024)\n",
    "\n",
    "\n",
    "data = Dataset(InputGridFile,'r')\n",
    "gridX,gridY = np.meshgrid(data.variables['lon'][:],data.variables['lat'][:])\n",
    "gridZ = data.variables['z'][:]\n",
    "\n",
    "# create figure and axes instances\n",
    "fig = plt.figure(figsize=(16,12),dpi=300,frameon=False)\n",
    "ax = plt.axes(projection=ccrs.PlateCarree())\n",
    "ax.coastlines()\n",
    "cm = cmap_discretize(plt.cm.RdBu_r, 30)\n",
    "cb=ax.imshow(gridZ, origin='lower', transform=ccrs.PlateCarree(),\n",
    "          extent=[-180, 180, -90, 90], cmap=cm)\n",
    "\n",
    "fig.colorbar(cb, shrink=0.5, label='Dynamic Topography (m)', orientation=\"horizontal\", pad=0.05)\n",
    "plt.title('Dynamic Topography ')\n",
    "plt.show()\n",
    "\n"
   ]
  },
  {
   "cell_type": "code",
   "execution_count": null,
   "metadata": {},
   "outputs": [],
   "source": []
  }
 ],
 "metadata": {
  "kernelspec": {
   "display_name": "Python 3",
   "language": "python",
   "name": "python3"
  },
  "language_info": {
   "codemirror_mode": {
    "name": "ipython",
    "version": 3
   },
   "file_extension": ".py",
   "mimetype": "text/x-python",
   "name": "python",
   "nbconvert_exporter": "python",
   "pygments_lexer": "ipython3",
   "version": "3.6.9"
  }
 },
 "nbformat": 4,
 "nbformat_minor": 1
}
